{
 "metadata": {
  "name": "",
  "signature": "sha256:254ac99e105e16c56d1272bec0a9a0905801e251865125da34300db216ae400b"
 },
 "nbformat": 3,
 "nbformat_minor": 0,
 "worksheets": [
  {
   "cells": [
    {
     "cell_type": "code",
     "collapsed": false,
     "input": [
      "import pandas as pd\n",
      "import numpy as np\n",
      "pd.set_option('display.notebook_repr_html', False)\n",
      "pd.set_option('display.max_columns', 8)\n",
      "pd.set_option('display.max_rows', 8)"
     ],
     "language": "python",
     "metadata": {},
     "outputs": [],
     "prompt_number": 1
    },
    {
     "cell_type": "heading",
     "level": 1,
     "metadata": {},
     "source": [
      "Creating a Series and accessing elements"
     ]
    },
    {
     "cell_type": "code",
     "collapsed": false,
     "input": [
      "np.random.seed(1)\n",
      "s = pd.Series(np.random.randn(100))\n",
      "s"
     ],
     "language": "python",
     "metadata": {},
     "outputs": [
      {
       "metadata": {},
       "output_type": "pyout",
       "prompt_number": 2,
       "text": [
        "0     1.624345\n",
        "1    -0.611756\n",
        "2    -0.528172\n",
        "3    -1.072969\n",
        "        ...   \n",
        "96   -0.343854\n",
        "97    0.043597\n",
        "98   -0.620001\n",
        "99    0.698032\n",
        "dtype: float64"
       ]
      }
     ],
     "prompt_number": 2
    },
    {
     "cell_type": "code",
     "collapsed": false,
     "input": [
      "s[2]"
     ],
     "language": "python",
     "metadata": {},
     "outputs": [
      {
       "metadata": {},
       "output_type": "pyout",
       "prompt_number": 3,
       "text": [
        "-0.5281717522634557"
       ]
      }
     ],
     "prompt_number": 3
    },
    {
     "cell_type": "code",
     "collapsed": false,
     "input": [
      "s[[2, 5, 20]]"
     ],
     "language": "python",
     "metadata": {},
     "outputs": [
      {
       "metadata": {},
       "output_type": "pyout",
       "prompt_number": 4,
       "text": [
        "2    -0.528172\n",
        "5    -2.301539\n",
        "20   -1.100619\n",
        "dtype: float64"
       ]
      }
     ],
     "prompt_number": 4
    },
    {
     "cell_type": "code",
     "collapsed": false,
     "input": [
      "s[3:8]"
     ],
     "language": "python",
     "metadata": {},
     "outputs": [
      {
       "metadata": {},
       "output_type": "pyout",
       "prompt_number": 5,
       "text": [
        "3   -1.072969\n",
        "4    0.865408\n",
        "5   -2.301539\n",
        "6    1.744812\n",
        "7   -0.761207\n",
        "dtype: float64"
       ]
      }
     ],
     "prompt_number": 5
    },
    {
     "cell_type": "code",
     "collapsed": false,
     "input": [
      "s.head()"
     ],
     "language": "python",
     "metadata": {},
     "outputs": [
      {
       "metadata": {},
       "output_type": "pyout",
       "prompt_number": 6,
       "text": [
        "0    1.624345\n",
        "1   -0.611756\n",
        "2   -0.528172\n",
        "3   -1.072969\n",
        "4    0.865408\n",
        "dtype: float64"
       ]
      }
     ],
     "prompt_number": 6
    },
    {
     "cell_type": "code",
     "collapsed": false,
     "input": [
      "s.tail()"
     ],
     "language": "python",
     "metadata": {},
     "outputs": [
      {
       "metadata": {},
       "output_type": "pyout",
       "prompt_number": 7,
       "text": [
        "95    0.077340\n",
        "96   -0.343854\n",
        "97    0.043597\n",
        "98   -0.620001\n",
        "99    0.698032\n",
        "dtype: float64"
       ]
      }
     ],
     "prompt_number": 7
    },
    {
     "cell_type": "code",
     "collapsed": false,
     "input": [
      "s.index"
     ],
     "language": "python",
     "metadata": {},
     "outputs": [
      {
       "metadata": {},
       "output_type": "pyout",
       "prompt_number": 8,
       "text": [
        "Int64Index([ 0,  1,  2,  3,  4,  5,  6,  7,  8,  9, 10, 11, 12, 13, 14, 15, 16,\n",
        "            17, 18, 19, 20, 21, 22, 23, 24, 25, 26, 27, 28, 29, 30, 31, 32, 33,\n",
        "            34, 35, 36, 37, 38, 39, 40, 41, 42, 43, 44, 45, 46, 47, 48, 49, 50,\n",
        "            51, 52, 53, 54, 55, 56, 57, 58, 59, 60, 61, 62, 63, 64, 65, 66, 67,\n",
        "            68, 69, 70, 71, 72, 73, 74, 75, 76, 77, 78, 79, 80, 81, 82, 83, 84,\n",
        "            85, 86, 87, 88, 89, 90, 91, 92, 93, 94, 95, 96, 97, 98, 99],\n",
        "           dtype='int64')"
       ]
      }
     ],
     "prompt_number": 8
    },
    {
     "cell_type": "code",
     "collapsed": false,
     "input": [
      "s.values"
     ],
     "language": "python",
     "metadata": {},
     "outputs": [
      {
       "metadata": {},
       "output_type": "pyout",
       "prompt_number": 9,
       "text": [
        "array([ 1.62434536, -0.61175641, -0.52817175, -1.07296862,  0.86540763,\n",
        "       -2.3015387 ,  1.74481176, -0.7612069 ,  0.3190391 , -0.24937038,\n",
        "        1.46210794, -2.06014071, -0.3224172 , -0.38405435,  1.13376944,\n",
        "       -1.09989127, -0.17242821, -0.87785842,  0.04221375,  0.58281521,\n",
        "       -1.10061918,  1.14472371,  0.90159072,  0.50249434,  0.90085595,\n",
        "       -0.68372786, -0.12289023, -0.93576943, -0.26788808,  0.53035547,\n",
        "       -0.69166075, -0.39675353, -0.6871727 , -0.84520564, -0.67124613,\n",
        "       -0.0126646 , -1.11731035,  0.2344157 ,  1.65980218,  0.74204416,\n",
        "       -0.19183555, -0.88762896, -0.74715829,  1.6924546 ,  0.05080775,\n",
        "       -0.63699565,  0.19091548,  2.10025514,  0.12015895,  0.61720311,\n",
        "        0.30017032, -0.35224985, -1.1425182 , -0.34934272, -0.20889423,\n",
        "        0.58662319,  0.83898341,  0.93110208,  0.28558733,  0.88514116,\n",
        "       -0.75439794,  1.25286816,  0.51292982, -0.29809284,  0.48851815,\n",
        "       -0.07557171,  1.13162939,  1.51981682,  2.18557541, -1.39649634,\n",
        "       -1.44411381, -0.50446586,  0.16003707,  0.87616892,  0.31563495,\n",
        "       -2.02220122, -0.30620401,  0.82797464,  0.23009474,  0.76201118,\n",
        "       -0.22232814, -0.20075807,  0.18656139,  0.41005165,  0.19829972,\n",
        "        0.11900865, -0.67066229,  0.37756379,  0.12182127,  1.12948391,\n",
        "        1.19891788,  0.18515642, -0.37528495, -0.63873041,  0.42349435,\n",
        "        0.07734007, -0.34385368,  0.04359686, -0.62000084,  0.69803203])"
       ]
      }
     ],
     "prompt_number": 9
    },
    {
     "cell_type": "code",
     "collapsed": false,
     "input": [
      "s2 = pd.Series([1, 2, 3, 4], index=['a', 'b', 'c', 'd'])\n",
      "s2"
     ],
     "language": "python",
     "metadata": {},
     "outputs": [
      {
       "metadata": {},
       "output_type": "pyout",
       "prompt_number": 10,
       "text": [
        "a    1\n",
        "b    2\n",
        "c    3\n",
        "d    4\n",
        "dtype: int64"
       ]
      }
     ],
     "prompt_number": 10
    },
    {
     "cell_type": "code",
     "collapsed": false,
     "input": [
      "s2 = pd.Series({'a': 1, 'b': 2, 'c': 3, 'd': 4, 'e': 5})\n",
      "s2"
     ],
     "language": "python",
     "metadata": {},
     "outputs": [
      {
       "metadata": {},
       "output_type": "pyout",
       "prompt_number": 11,
       "text": [
        "a    1\n",
        "b    2\n",
        "c    3\n",
        "d    4\n",
        "e    5\n",
        "dtype: int64"
       ]
      }
     ],
     "prompt_number": 11
    },
    {
     "cell_type": "heading",
     "level": 1,
     "metadata": {},
     "source": [
      "Size, shape, uniqueness, and counts of\n",
      "values"
     ]
    },
    {
     "cell_type": "code",
     "collapsed": false,
     "input": [
      "s = pd.Series([10, 0, 1, 1, 2, 3, 4, 5, 6, np.nan])\n",
      "len(s)"
     ],
     "language": "python",
     "metadata": {},
     "outputs": [
      {
       "metadata": {},
       "output_type": "pyout",
       "prompt_number": 12,
       "text": [
        "10"
       ]
      }
     ],
     "prompt_number": 12
    },
    {
     "cell_type": "code",
     "collapsed": false,
     "input": [
      "s.shape"
     ],
     "language": "python",
     "metadata": {},
     "outputs": [
      {
       "metadata": {},
       "output_type": "pyout",
       "prompt_number": 13,
       "text": [
        "(10,)"
       ]
      }
     ],
     "prompt_number": 13
    },
    {
     "cell_type": "code",
     "collapsed": false,
     "input": [
      "s.count()"
     ],
     "language": "python",
     "metadata": {},
     "outputs": [
      {
       "metadata": {},
       "output_type": "pyout",
       "prompt_number": 14,
       "text": [
        "9"
       ]
      }
     ],
     "prompt_number": 14
    },
    {
     "cell_type": "code",
     "collapsed": false,
     "input": [
      "s.unique()"
     ],
     "language": "python",
     "metadata": {},
     "outputs": [
      {
       "metadata": {},
       "output_type": "pyout",
       "prompt_number": 15,
       "text": [
        "array([ 10.,   0.,   1.,   2.,   3.,   4.,   5.,   6.,  nan])"
       ]
      }
     ],
     "prompt_number": 15
    },
    {
     "cell_type": "code",
     "collapsed": false,
     "input": [
      "s.value_counts()"
     ],
     "language": "python",
     "metadata": {},
     "outputs": [
      {
       "metadata": {},
       "output_type": "pyout",
       "prompt_number": 16,
       "text": [
        "1     2\n",
        "10    1\n",
        "6     1\n",
        "5     1\n",
        "4     1\n",
        "3     1\n",
        "2     1\n",
        "0     1\n",
        "dtype: int64"
       ]
      }
     ],
     "prompt_number": 16
    },
    {
     "cell_type": "heading",
     "level": 1,
     "metadata": {},
     "source": [
      "Alignment via index labels"
     ]
    },
    {
     "cell_type": "code",
     "collapsed": false,
     "input": [
      "s3 = pd.Series([1, 2, 3, 4], index=['a', 'b', 'c', 'd'])\n",
      "s3"
     ],
     "language": "python",
     "metadata": {},
     "outputs": [
      {
       "metadata": {},
       "output_type": "pyout",
       "prompt_number": 17,
       "text": [
        "a    1\n",
        "b    2\n",
        "c    3\n",
        "d    4\n",
        "dtype: int64"
       ]
      }
     ],
     "prompt_number": 17
    },
    {
     "cell_type": "code",
     "collapsed": false,
     "input": [
      "s4 = pd.Series([4, 3, 2, 1], index=['d', 'c', 'b', 'a'])\n",
      "s4"
     ],
     "language": "python",
     "metadata": {},
     "outputs": [
      {
       "metadata": {},
       "output_type": "pyout",
       "prompt_number": 18,
       "text": [
        "d    4\n",
        "c    3\n",
        "b    2\n",
        "a    1\n",
        "dtype: int64"
       ]
      }
     ],
     "prompt_number": 18
    },
    {
     "cell_type": "code",
     "collapsed": false,
     "input": [
      "s3 + s4"
     ],
     "language": "python",
     "metadata": {},
     "outputs": [
      {
       "metadata": {},
       "output_type": "pyout",
       "prompt_number": 19,
       "text": [
        "a    2\n",
        "b    4\n",
        "c    6\n",
        "d    8\n",
        "dtype: int64"
       ]
      }
     ],
     "prompt_number": 19
    },
    {
     "cell_type": "code",
     "collapsed": false,
     "input": [
      "a1 = np.array([1, 2, 3, 4])\n",
      "a2 = np.array([4, 3, 2, 1])\n",
      "a1 + a2"
     ],
     "language": "python",
     "metadata": {},
     "outputs": [
      {
       "metadata": {},
       "output_type": "pyout",
       "prompt_number": 20,
       "text": [
        "array([5, 5, 5, 5])"
       ]
      }
     ],
     "prompt_number": 20
    },
    {
     "cell_type": "heading",
     "level": 1,
     "metadata": {},
     "source": [
      "Creating a DataFrame"
     ]
    },
    {
     "cell_type": "code",
     "collapsed": false,
     "input": [
      "pd.DataFrame(np.array([[10, 11], [20, 21]]))"
     ],
     "language": "python",
     "metadata": {},
     "outputs": [
      {
       "metadata": {},
       "output_type": "pyout",
       "prompt_number": 21,
       "text": [
        "    0   1\n",
        "0  10  11\n",
        "1  20  21"
       ]
      }
     ],
     "prompt_number": 21
    },
    {
     "cell_type": "code",
     "collapsed": false,
     "input": [
      "df1 = pd.DataFrame([pd.Series(np.arange(10, 15)),\n",
      "                    pd.Series(np.arange(15, 20))])\n",
      "df1"
     ],
     "language": "python",
     "metadata": {},
     "outputs": [
      {
       "metadata": {},
       "output_type": "pyout",
       "prompt_number": 22,
       "text": [
        "    0   1   2   3   4\n",
        "0  10  11  12  13  14\n",
        "1  15  16  17  18  19"
       ]
      }
     ],
     "prompt_number": 22
    },
    {
     "cell_type": "code",
     "collapsed": false,
     "input": [
      "df1.shape"
     ],
     "language": "python",
     "metadata": {},
     "outputs": [
      {
       "metadata": {},
       "output_type": "pyout",
       "prompt_number": 23,
       "text": [
        "(2, 5)"
       ]
      }
     ],
     "prompt_number": 23
    },
    {
     "cell_type": "code",
     "collapsed": false,
     "input": [
      "df = pd.DataFrame(np.array([[10, 11], [20, 21]]),\n",
      "                  columns=['a', 'b'])\n",
      "df"
     ],
     "language": "python",
     "metadata": {},
     "outputs": [
      {
       "metadata": {},
       "output_type": "pyout",
       "prompt_number": 24,
       "text": [
        "    a   b\n",
        "0  10  11\n",
        "1  20  21"
       ]
      }
     ],
     "prompt_number": 24
    },
    {
     "cell_type": "code",
     "collapsed": false,
     "input": [
      "df.columns"
     ],
     "language": "python",
     "metadata": {},
     "outputs": [
      {
       "metadata": {},
       "output_type": "pyout",
       "prompt_number": 25,
       "text": [
        "Index(['a', 'b'], dtype='object')"
       ]
      }
     ],
     "prompt_number": 25
    },
    {
     "cell_type": "code",
     "collapsed": false,
     "input": [
      "df.columns = ['c1', 'c2']\n",
      "df"
     ],
     "language": "python",
     "metadata": {},
     "outputs": [
      {
       "metadata": {},
       "output_type": "pyout",
       "prompt_number": 26,
       "text": [
        "   c1  c2\n",
        "0  10  11\n",
        "1  20  21"
       ]
      }
     ],
     "prompt_number": 26
    },
    {
     "cell_type": "code",
     "collapsed": false,
     "input": [
      "df = pd.DataFrame(np.array([[0, 1], [2, 3]]),\n",
      "                  columns=['c1', 'c2'],\n",
      "                  index=['r1', 'r2'])\n",
      "df"
     ],
     "language": "python",
     "metadata": {},
     "outputs": [
      {
       "metadata": {},
       "output_type": "pyout",
       "prompt_number": 27,
       "text": [
        "    c1  c2\n",
        "r1   0   1\n",
        "r2   2   3"
       ]
      }
     ],
     "prompt_number": 27
    },
    {
     "cell_type": "code",
     "collapsed": false,
     "input": [
      "df.index"
     ],
     "language": "python",
     "metadata": {},
     "outputs": [
      {
       "metadata": {},
       "output_type": "pyout",
       "prompt_number": 28,
       "text": [
        "Index(['r1', 'r2'], dtype='object')"
       ]
      }
     ],
     "prompt_number": 28
    },
    {
     "cell_type": "code",
     "collapsed": false,
     "input": [
      "s1 = pd.Series(np.arange(1, 6, 1))\n",
      "s2 = pd.Series(np.arange(6, 11, 1))\n",
      "pd.DataFrame({'c1': s1, 'c2': s2})"
     ],
     "language": "python",
     "metadata": {},
     "outputs": [
      {
       "metadata": {},
       "output_type": "pyout",
       "prompt_number": 29,
       "text": [
        "   c1  c2\n",
        "0   1   6\n",
        "1   2   7\n",
        "2   3   8\n",
        "3   4   9\n",
        "4   5  10"
       ]
      }
     ],
     "prompt_number": 29
    },
    {
     "cell_type": "code",
     "collapsed": false,
     "input": [
      "s3 = pd.Series(np.arange(12, 14), index=[1, 2])\n",
      "pd.DataFrame({'c1': s1, 'c2': s2, 'c3': s3})"
     ],
     "language": "python",
     "metadata": {},
     "outputs": [
      {
       "metadata": {},
       "output_type": "pyout",
       "prompt_number": 30,
       "text": [
        "   c1  c2  c3\n",
        "0   1   6 NaN\n",
        "1   2   7  12\n",
        "2   3   8  13\n",
        "3   4   9 NaN\n",
        "4   5  10 NaN"
       ]
      }
     ],
     "prompt_number": 30
    },
    {
     "cell_type": "heading",
     "level": 1,
     "metadata": {},
     "source": [
      "Example data"
     ]
    },
    {
     "cell_type": "code",
     "collapsed": false,
     "input": [
      "sp500 = pd.read_csv(\"sp500.csv\",\n",
      "                    index_col='Symbol',\n",
      "                    usecols=[0, 2, 3, 7])"
     ],
     "language": "python",
     "metadata": {},
     "outputs": [],
     "prompt_number": 31
    },
    {
     "cell_type": "code",
     "collapsed": false,
     "input": [
      "sp500.head()"
     ],
     "language": "python",
     "metadata": {},
     "outputs": [
      {
       "metadata": {},
       "output_type": "pyout",
       "prompt_number": 32,
       "text": [
        "                        Sector   Price  Book Value\n",
        "Symbol                                            \n",
        "MMM                Industrials  177.12       19.34\n",
        "ABT                Health Care   41.89       14.10\n",
        "ABBV               Health Care   64.16        2.87\n",
        "ACN     Information Technology  115.11       11.45\n",
        "ATVI    Information Technology   41.29       11.31"
       ]
      }
     ],
     "prompt_number": 32
    },
    {
     "cell_type": "code",
     "collapsed": false,
     "input": [
      "sp500.index"
     ],
     "language": "python",
     "metadata": {},
     "outputs": [
      {
       "metadata": {},
       "output_type": "pyout",
       "prompt_number": 33,
       "text": [
        "Index(['MMM', 'ABT', 'ABBV', 'ACN', 'ATVI', 'AYI', 'ADBE', 'AAP', 'AES', 'AET',\n",
        "       ...\n",
        "       'XEL', 'XRX', 'XLNX', 'XL', 'XYL', 'YHOO', 'YUM', 'ZBH', 'ZION', 'ZTS'],\n",
        "      dtype='object', name='Symbol', length=504)"
       ]
      }
     ],
     "prompt_number": 33
    },
    {
     "cell_type": "heading",
     "level": 1,
     "metadata": {},
     "source": [
      "Selecting columns of a DataFrame"
     ]
    },
    {
     "cell_type": "code",
     "collapsed": false,
     "input": [
      "sp500[[1, 2]].head(3)"
     ],
     "language": "python",
     "metadata": {},
     "outputs": [
      {
       "metadata": {},
       "output_type": "pyout",
       "prompt_number": 34,
       "text": [
        "         Price  Book Value\n",
        "Symbol                    \n",
        "MMM     177.12       19.34\n",
        "ABT      41.89       14.10\n",
        "ABBV     64.16        2.87"
       ]
      }
     ],
     "prompt_number": 34
    },
    {
     "cell_type": "code",
     "collapsed": false,
     "input": [
      "sp500[[1]].head(3)"
     ],
     "language": "python",
     "metadata": {},
     "outputs": [
      {
       "metadata": {},
       "output_type": "pyout",
       "prompt_number": 35,
       "text": [
        "         Price\n",
        "Symbol        \n",
        "MMM     177.12\n",
        "ABT      41.89\n",
        "ABBV     64.16"
       ]
      }
     ],
     "prompt_number": 35
    },
    {
     "cell_type": "code",
     "collapsed": false,
     "input": [
      "sp500['Price']"
     ],
     "language": "python",
     "metadata": {},
     "outputs": [
      {
       "metadata": {},
       "output_type": "pyout",
       "prompt_number": 36,
       "text": [
        "Symbol\n",
        "MMM     177.12\n",
        "ABT      41.89\n",
        "ABBV     64.16\n",
        "ACN     115.11\n",
        "         ...  \n",
        "YUM      85.76\n",
        "ZBH     124.89\n",
        "ZION     24.74\n",
        "ZTS      48.50\n",
        "Name: Price, dtype: float64"
       ]
      }
     ],
     "prompt_number": 36
    },
    {
     "cell_type": "code",
     "collapsed": false,
     "input": [
      "sp500[['Price', 'Sector']]"
     ],
     "language": "python",
     "metadata": {},
     "outputs": [
      {
       "metadata": {},
       "output_type": "pyout",
       "prompt_number": 37,
       "text": [
        "         Price                  Sector\n",
        "Symbol                                \n",
        "MMM     177.12             Industrials\n",
        "ABT      41.89             Health Care\n",
        "ABBV     64.16             Health Care\n",
        "ACN     115.11  Information Technology\n",
        "...        ...                     ...\n",
        "YUM      85.76  Consumer Discretionary\n",
        "ZBH     124.89             Health Care\n",
        "ZION     24.74              Financials\n",
        "ZTS      48.50             Health Care\n",
        "\n",
        "[504 rows x 2 columns]"
       ]
      }
     ],
     "prompt_number": 37
    },
    {
     "cell_type": "code",
     "collapsed": false,
     "input": [
      "sp500.Price"
     ],
     "language": "python",
     "metadata": {},
     "outputs": [
      {
       "metadata": {},
       "output_type": "pyout",
       "prompt_number": 38,
       "text": [
        "Symbol\n",
        "MMM     177.12\n",
        "ABT      41.89\n",
        "ABBV     64.16\n",
        "ACN     115.11\n",
        "         ...  \n",
        "YUM      85.76\n",
        "ZBH     124.89\n",
        "ZION     24.74\n",
        "ZTS      48.50\n",
        "Name: Price, dtype: float64"
       ]
      }
     ],
     "prompt_number": 38
    },
    {
     "cell_type": "heading",
     "level": 1,
     "metadata": {},
     "source": [
      "Selecting rows of a DataFrame using the\n",
      "index"
     ]
    },
    {
     "cell_type": "code",
     "collapsed": false,
     "input": [
      "sp500[:3]"
     ],
     "language": "python",
     "metadata": {},
     "outputs": [
      {
       "metadata": {},
       "output_type": "pyout",
       "prompt_number": 39,
       "text": [
        "             Sector   Price  Book Value\n",
        "Symbol                                 \n",
        "MMM     Industrials  177.12       19.34\n",
        "ABT     Health Care   41.89       14.10\n",
        "ABBV    Health Care   64.16        2.87"
       ]
      }
     ],
     "prompt_number": 39
    },
    {
     "cell_type": "code",
     "collapsed": false,
     "input": [
      "sp500['XYL':'YUM']"
     ],
     "language": "python",
     "metadata": {},
     "outputs": [
      {
       "metadata": {},
       "output_type": "pyout",
       "prompt_number": 40,
       "text": [
        "                        Sector  Price  Book Value\n",
        "Symbol                                           \n",
        "XYL                Industrials  46.41       12.07\n",
        "YHOO    Information Technology  37.74       30.03\n",
        "YUM     Consumer Discretionary  85.76        0.38"
       ]
      }
     ],
     "prompt_number": 40
    },
    {
     "cell_type": "code",
     "collapsed": false,
     "input": [
      "sp500.loc['MMM']"
     ],
     "language": "python",
     "metadata": {},
     "outputs": [
      {
       "metadata": {},
       "output_type": "pyout",
       "prompt_number": 41,
       "text": [
        "Sector        Industrials\n",
        "Price              177.12\n",
        "Book Value          19.34\n",
        "Name: MMM, dtype: object"
       ]
      }
     ],
     "prompt_number": 41
    },
    {
     "cell_type": "code",
     "collapsed": false,
     "input": [
      "sp500.loc[['MMM', 'MSFT']]"
     ],
     "language": "python",
     "metadata": {},
     "outputs": [
      {
       "metadata": {},
       "output_type": "pyout",
       "prompt_number": 42,
       "text": [
        "                        Sector   Price  Book Value\n",
        "Symbol                                            \n",
        "MMM                Industrials  177.12       19.34\n",
        "MSFT    Information Technology   52.30        9.51"
       ]
      }
     ],
     "prompt_number": 42
    },
    {
     "cell_type": "code",
     "collapsed": false,
     "input": [
      "sp500.iloc[[0, 2]]"
     ],
     "language": "python",
     "metadata": {},
     "outputs": [
      {
       "metadata": {},
       "output_type": "pyout",
       "prompt_number": 43,
       "text": [
        "             Sector   Price  Book Value\n",
        "Symbol                                 \n",
        "MMM     Industrials  177.12       19.34\n",
        "ABBV    Health Care   64.16        2.87"
       ]
      }
     ],
     "prompt_number": 43
    },
    {
     "cell_type": "code",
     "collapsed": false,
     "input": [
      "i1 = sp500.index.get_loc('MMM')\n",
      "i2 = sp500.index.get_loc('A')\n",
      "i1, i2"
     ],
     "language": "python",
     "metadata": {},
     "outputs": [
      {
       "metadata": {},
       "output_type": "pyout",
       "prompt_number": 44,
       "text": [
        "(0, 12)"
       ]
      }
     ],
     "prompt_number": 44
    },
    {
     "cell_type": "code",
     "collapsed": false,
     "input": [
      "sp500.iloc[[i1, i2]]"
     ],
     "language": "python",
     "metadata": {},
     "outputs": [
      {
       "metadata": {},
       "output_type": "pyout",
       "prompt_number": 45,
       "text": [
        "             Sector   Price  Book Value\n",
        "Symbol                                 \n",
        "MMM     Industrials  177.12       19.34\n",
        "A       Health Care   45.48       12.79"
       ]
      }
     ],
     "prompt_number": 45
    },
    {
     "cell_type": "code",
     "collapsed": false,
     "input": [
      "sp500.ix[['MSFT', 'ZTS']]"
     ],
     "language": "python",
     "metadata": {},
     "outputs": [
      {
       "metadata": {},
       "output_type": "pyout",
       "prompt_number": 46,
       "text": [
        "                        Sector  Price  Book Value\n",
        "Symbol                                           \n",
        "MSFT    Information Technology   52.3        9.51\n",
        "ZTS                Health Care   48.5        2.35"
       ]
      }
     ],
     "prompt_number": 46
    },
    {
     "cell_type": "code",
     "collapsed": false,
     "input": [
      "sp500.ix[[10, 200, 450]]"
     ],
     "language": "python",
     "metadata": {},
     "outputs": [
      {
       "metadata": {},
       "output_type": "pyout",
       "prompt_number": 47,
       "text": [
        "                        Sector   Price  Book Value\n",
        "Symbol                                            \n",
        "AMG                 Financials  138.85       53.30\n",
        "GPS     Consumer Discretionary   22.70        6.34\n",
        "TYC                Industrials   42.77        9.75"
       ]
      }
     ],
     "prompt_number": 47
    },
    {
     "cell_type": "code",
     "collapsed": false,
     "input": [
      "sp500.at['MMM', 'Price']"
     ],
     "language": "python",
     "metadata": {},
     "outputs": [
      {
       "metadata": {},
       "output_type": "pyout",
       "prompt_number": 48,
       "text": [
        "177.12"
       ]
      }
     ],
     "prompt_number": 48
    },
    {
     "cell_type": "code",
     "collapsed": false,
     "input": [
      "sp500.iat[0, 1]"
     ],
     "language": "python",
     "metadata": {},
     "outputs": [
      {
       "metadata": {},
       "output_type": "pyout",
       "prompt_number": 49,
       "text": [
        "177.12"
       ]
      }
     ],
     "prompt_number": 49
    },
    {
     "cell_type": "code",
     "collapsed": false,
     "input": [
      "sp500.Price < 100"
     ],
     "language": "python",
     "metadata": {},
     "outputs": [
      {
       "metadata": {},
       "output_type": "pyout",
       "prompt_number": 50,
       "text": [
        "Symbol\n",
        "MMM     False\n",
        "ABT      True\n",
        "ABBV     True\n",
        "ACN     False\n",
        "        ...  \n",
        "YUM      True\n",
        "ZBH     False\n",
        "ZION     True\n",
        "ZTS      True\n",
        "Name: Price, dtype: bool"
       ]
      }
     ],
     "prompt_number": 50
    },
    {
     "cell_type": "code",
     "collapsed": false,
     "input": [
      "sp500[sp500.Price < 100]"
     ],
     "language": "python",
     "metadata": {},
     "outputs": [
      {
       "metadata": {},
       "output_type": "pyout",
       "prompt_number": 51,
       "text": [
        "                        Sector  Price  Book Value\n",
        "Symbol                                           \n",
        "ABT                Health Care  41.89       14.10\n",
        "ABBV               Health Care  64.16        2.87\n",
        "ATVI    Information Technology  41.29       11.31\n",
        "ADBE    Information Technology  96.79       14.53\n",
        "...                        ...    ...         ...\n",
        "YHOO    Information Technology  37.74       30.03\n",
        "YUM     Consumer Discretionary  85.76        0.38\n",
        "ZION                Financials  24.74       33.23\n",
        "ZTS                Health Care  48.50        2.35\n",
        "\n",
        "[382 rows x 3 columns]"
       ]
      }
     ],
     "prompt_number": 51
    },
    {
     "cell_type": "code",
     "collapsed": false,
     "input": [
      "sp500[(sp500.Price < 10) & (sp500.Price > 0)] [['Price']]"
     ],
     "language": "python",
     "metadata": {},
     "outputs": [
      {
       "metadata": {},
       "output_type": "pyout",
       "prompt_number": 52,
       "text": [
        "        Price\n",
        "Symbol       \n",
        "AA       9.82\n",
        "CHK      4.24\n",
        "FTR      4.97\n",
        "HBAN     8.72\n",
        "RF       8.44\n",
        "SPLS     8.85\n",
        "XRX      9.54"
       ]
      }
     ],
     "prompt_number": 52
    },
    {
     "cell_type": "code",
     "collapsed": false,
     "input": [
      "np.random.seed(123456)\n",
      "df = pd.DataFrame(np.random.randn(5, 4),\n",
      "                  columns=['A', 'B', 'C', 'D'])\n",
      "df"
     ],
     "language": "python",
     "metadata": {},
     "outputs": [
      {
       "metadata": {},
       "output_type": "pyout",
       "prompt_number": 53,
       "text": [
        "          A         B         C         D\n",
        "0  0.469112 -0.282863 -1.509059 -1.135632\n",
        "1  1.212112 -0.173215  0.119209 -1.044236\n",
        "2 -0.861849 -2.104569 -0.494929  1.071804\n",
        "3  0.721555 -0.706771 -1.039575  0.271860\n",
        "4 -0.424972  0.567020  0.276232 -1.087401"
       ]
      }
     ],
     "prompt_number": 53
    },
    {
     "cell_type": "code",
     "collapsed": false,
     "input": [
      "df * 2"
     ],
     "language": "python",
     "metadata": {},
     "outputs": [
      {
       "metadata": {},
       "output_type": "pyout",
       "prompt_number": 54,
       "text": [
        "          A         B         C         D\n",
        "0  0.938225 -0.565727 -3.018117 -2.271265\n",
        "1  2.424224 -0.346429  0.238417 -2.088472\n",
        "2 -1.723698 -4.209138 -0.989859  2.143608\n",
        "3  1.443110 -1.413542 -2.079150  0.543720\n",
        "4 -0.849945  1.134041  0.552464 -2.174801"
       ]
      }
     ],
     "prompt_number": 54
    },
    {
     "cell_type": "code",
     "collapsed": false,
     "input": [
      "df - df.iloc[0]"
     ],
     "language": "python",
     "metadata": {},
     "outputs": [
      {
       "metadata": {},
       "output_type": "pyout",
       "prompt_number": 55,
       "text": [
        "          A         B         C         D\n",
        "0  0.000000  0.000000  0.000000  0.000000\n",
        "1  0.743000  0.109649  1.628267  0.091396\n",
        "2 -1.330961 -1.821706  1.014129  2.207436\n",
        "3  0.252443 -0.423908  0.469484  1.407492\n",
        "4 -0.894085  0.849884  1.785291  0.048232"
       ]
      }
     ],
     "prompt_number": 55
    },
    {
     "cell_type": "code",
     "collapsed": false,
     "input": [
      "subframe = df[1:4][['B', 'C']]\n",
      "subframe"
     ],
     "language": "python",
     "metadata": {},
     "outputs": [
      {
       "metadata": {},
       "output_type": "pyout",
       "prompt_number": 56,
       "text": [
        "          B         C\n",
        "1 -0.173215  0.119209\n",
        "2 -2.104569 -0.494929\n",
        "3 -0.706771 -1.039575"
       ]
      }
     ],
     "prompt_number": 56
    },
    {
     "cell_type": "code",
     "collapsed": false,
     "input": [
      "df - subframe"
     ],
     "language": "python",
     "metadata": {},
     "outputs": [
      {
       "metadata": {},
       "output_type": "pyout",
       "prompt_number": 57,
       "text": [
        "    A   B   C   D\n",
        "0 NaN NaN NaN NaN\n",
        "1 NaN   0   0 NaN\n",
        "2 NaN   0   0 NaN\n",
        "3 NaN   0   0 NaN\n",
        "4 NaN NaN NaN NaN"
       ]
      }
     ],
     "prompt_number": 57
    },
    {
     "cell_type": "code",
     "collapsed": false,
     "input": [
      "a_col = df['A']\n",
      "df.sub(a_col, axis=0)"
     ],
     "language": "python",
     "metadata": {},
     "outputs": [
      {
       "metadata": {},
       "output_type": "pyout",
       "prompt_number": 58,
       "text": [
        "   A         B         C         D\n",
        "0  0 -0.751976 -1.978171 -1.604745\n",
        "1  0 -1.385327 -1.092903 -2.256348\n",
        "2  0 -1.242720  0.366920  1.933653\n",
        "3  0 -1.428326 -1.761130 -0.449695\n",
        "4  0  0.991993  0.701204 -0.662428"
       ]
      }
     ],
     "prompt_number": 58
    },
    {
     "cell_type": "heading",
     "level": 1,
     "metadata": {},
     "source": [
      "Reindexing the Series and DataFrame\n",
      "objects"
     ]
    },
    {
     "cell_type": "code",
     "collapsed": false,
     "input": [
      "np.random.seed(1)\n",
      "s = pd.Series(np.random.randn(5))\n",
      "s"
     ],
     "language": "python",
     "metadata": {},
     "outputs": [
      {
       "metadata": {},
       "output_type": "pyout",
       "prompt_number": 59,
       "text": [
        "0    1.624345\n",
        "1   -0.611756\n",
        "2   -0.528172\n",
        "3   -1.072969\n",
        "4    0.865408\n",
        "dtype: float64"
       ]
      }
     ],
     "prompt_number": 59
    },
    {
     "cell_type": "code",
     "collapsed": false,
     "input": [
      "s.index = ['a', 'b', 'c', 'd', 'e']\n",
      "s"
     ],
     "language": "python",
     "metadata": {},
     "outputs": [
      {
       "metadata": {},
       "output_type": "pyout",
       "prompt_number": 60,
       "text": [
        "a    1.624345\n",
        "b   -0.611756\n",
        "c   -0.528172\n",
        "d   -1.072969\n",
        "e    0.865408\n",
        "dtype: float64"
       ]
      }
     ],
     "prompt_number": 60
    },
    {
     "cell_type": "code",
     "collapsed": false,
     "input": [
      "s2 = s.reindex(['a', 'c', 'e', 'g'])\n",
      "s2['a'] = 0\n",
      "s2"
     ],
     "language": "python",
     "metadata": {},
     "outputs": [
      {
       "metadata": {},
       "output_type": "pyout",
       "prompt_number": 61,
       "text": [
        "a    0.000000\n",
        "c   -0.528172\n",
        "e    0.865408\n",
        "g         NaN\n",
        "dtype: float64"
       ]
      }
     ],
     "prompt_number": 61
    },
    {
     "cell_type": "code",
     "collapsed": false,
     "input": [
      "s['a']"
     ],
     "language": "python",
     "metadata": {},
     "outputs": [
      {
       "metadata": {},
       "output_type": "pyout",
       "prompt_number": 62,
       "text": [
        "1.6243453636632417"
       ]
      }
     ],
     "prompt_number": 62
    },
    {
     "cell_type": "code",
     "collapsed": false,
     "input": [
      "s1 = pd.Series([0, 1, 2], index=[0, 1, 2])\n",
      "s2 = pd.Series([3, 4, 5], index=['0', '1', '2'])\n",
      "s1 + s2"
     ],
     "language": "python",
     "metadata": {},
     "outputs": [
      {
       "metadata": {},
       "output_type": "pyout",
       "prompt_number": 63,
       "text": [
        "0   NaN\n",
        "1   NaN\n",
        "2   NaN\n",
        "0   NaN\n",
        "1   NaN\n",
        "2   NaN\n",
        "dtype: float64"
       ]
      }
     ],
     "prompt_number": 63
    },
    {
     "cell_type": "code",
     "collapsed": false,
     "input": [
      "s2.index = s2.index.values.astype(int)\n",
      "s1 + s2"
     ],
     "language": "python",
     "metadata": {},
     "outputs": [
      {
       "metadata": {},
       "output_type": "pyout",
       "prompt_number": 64,
       "text": [
        "0    3\n",
        "1    5\n",
        "2    7\n",
        "dtype: int64"
       ]
      }
     ],
     "prompt_number": 64
    },
    {
     "cell_type": "code",
     "collapsed": false,
     "input": [
      "s2 = s.copy()\n",
      "s2.reindex(['a', 'f'], fill_value=0)"
     ],
     "language": "python",
     "metadata": {},
     "outputs": [
      {
       "metadata": {},
       "output_type": "pyout",
       "prompt_number": 65,
       "text": [
        "a    1.624345\n",
        "f    0.000000\n",
        "dtype: float64"
       ]
      }
     ],
     "prompt_number": 65
    },
    {
     "cell_type": "code",
     "collapsed": false,
     "input": [
      "s3 = pd.Series(['red', 'green', 'blue'], index=[0, 3, 5])\n",
      "s3"
     ],
     "language": "python",
     "metadata": {},
     "outputs": [
      {
       "metadata": {},
       "output_type": "pyout",
       "prompt_number": 66,
       "text": [
        "0      red\n",
        "3    green\n",
        "5     blue\n",
        "dtype: object"
       ]
      }
     ],
     "prompt_number": 66
    },
    {
     "cell_type": "code",
     "collapsed": false,
     "input": [
      "s3.reindex(np.arange(0,7), method='ffill')"
     ],
     "language": "python",
     "metadata": {},
     "outputs": [
      {
       "metadata": {},
       "output_type": "pyout",
       "prompt_number": 67,
       "text": [
        "0      red\n",
        "1      red\n",
        "2      red\n",
        "3    green\n",
        "4    green\n",
        "5     blue\n",
        "6     blue\n",
        "dtype: object"
       ]
      }
     ],
     "prompt_number": 67
    },
    {
     "cell_type": "code",
     "collapsed": false,
     "input": [
      "s3.reindex(np.arange(0,7), method='bfill')"
     ],
     "language": "python",
     "metadata": {},
     "outputs": [
      {
       "metadata": {},
       "output_type": "pyout",
       "prompt_number": 68,
       "text": [
        "0      red\n",
        "1    green\n",
        "2    green\n",
        "3    green\n",
        "4     blue\n",
        "5     blue\n",
        "6      NaN\n",
        "dtype: object"
       ]
      }
     ],
     "prompt_number": 68
    }
   ],
   "metadata": {}
  }
 ]
}