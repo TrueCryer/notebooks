{
 "metadata": {
  "name": "",
  "signature": "sha256:dae94a20539b238ada9d814ba1617430ffeb7d95cc332e0978733a7589e8a740"
 },
 "nbformat": 3,
 "nbformat_minor": 0,
 "worksheets": [
  {
   "cells": [
    {
     "cell_type": "code",
     "collapsed": false,
     "input": [
      "import pandas as pd\n",
      "import numpy as np\n",
      "import datetime\n",
      "import matplotlib.pyplot as plt\n",
      "%matplotlib inline\n",
      "pd.set_option('display.notebook_repr_html', False)\n",
      "pd.set_option('display.max_columns', 15)\n",
      "pd.set_option('display.max_rows', 8)\n",
      "pd.set_option('precision', 3)"
     ],
     "language": "python",
     "metadata": {},
     "outputs": [],
     "prompt_number": 1
    },
    {
     "cell_type": "heading",
     "level": 1,
     "metadata": {},
     "source": [
      "Loading historical stock data"
     ]
    },
    {
     "cell_type": "code",
     "collapsed": false,
     "input": [
      "msft = pd.read_csv(\"msft.csv\", index_col=0, parse_dates=True)\n",
      "aapl = pd.read_csv(\"aapl.csv\", index_col=0, parse_dates=True)"
     ],
     "language": "python",
     "metadata": {},
     "outputs": [],
     "prompt_number": 2
    },
    {
     "cell_type": "heading",
     "level": 2,
     "metadata": {},
     "source": [
      "Organizing the data for the examples"
     ]
    },
    {
     "cell_type": "code",
     "collapsed": false,
     "input": [
      "msft[:3]"
     ],
     "language": "python",
     "metadata": {},
     "outputs": [
      {
       "metadata": {},
       "output_type": "pyout",
       "prompt_number": 3,
       "text": [
        "             Open   High    Low  Close    Volume  Adj Close\n",
        "Date                                                       \n",
        "2012-01-03  26.55  26.96  26.39  26.77  64731500     23.608\n",
        "2012-01-04  26.82  27.47  26.78  27.40  80516100     24.164\n",
        "2012-01-05  27.38  27.73  27.29  27.68  56081400     24.410"
       ]
      }
     ],
     "prompt_number": 3
    },
    {
     "cell_type": "code",
     "collapsed": false,
     "input": [
      "aapl[:3]"
     ],
     "language": "python",
     "metadata": {},
     "outputs": [
      {
       "metadata": {},
       "output_type": "pyout",
       "prompt_number": 4,
       "text": [
        "              Open    High     Low   Close    Volume  Adj Close\n",
        "Date                                                           \n",
        "2012-01-03  409.40  412.50  409.00  411.23  75555200     54.076\n",
        "2012-01-04  410.00  414.68  409.28  413.44  65005500     54.366\n",
        "2012-01-05  414.95  418.55  412.67  418.03  67817400     54.970"
       ]
      }
     ],
     "prompt_number": 4
    },
    {
     "cell_type": "heading",
     "level": 1,
     "metadata": {},
     "source": [
      "Reorganizing and reshaping data"
     ]
    },
    {
     "cell_type": "code",
     "collapsed": false,
     "input": [
      "msftA01 = msft['2012-01'][['Adj Close']]\n",
      "msftA02 = msft['2012-02'][['Adj Close']]"
     ],
     "language": "python",
     "metadata": {},
     "outputs": [],
     "prompt_number": 5
    },
    {
     "cell_type": "code",
     "collapsed": false,
     "input": [
      "msftA01[:3]"
     ],
     "language": "python",
     "metadata": {},
     "outputs": [
      {
       "metadata": {},
       "output_type": "pyout",
       "prompt_number": 6,
       "text": [
        "            Adj Close\n",
        "Date                 \n",
        "2012-01-03     23.608\n",
        "2012-01-04     24.164\n",
        "2012-01-05     24.410"
       ]
      }
     ],
     "prompt_number": 6
    },
    {
     "cell_type": "code",
     "collapsed": false,
     "input": [
      "msftA02[:3]"
     ],
     "language": "python",
     "metadata": {},
     "outputs": [
      {
       "metadata": {},
       "output_type": "pyout",
       "prompt_number": 7,
       "text": [
        "            Adj Close\n",
        "Date                 \n",
        "2012-02-01     26.359\n",
        "2012-02-02     26.412\n",
        "2012-02-03     26.668"
       ]
      }
     ],
     "prompt_number": 7
    },
    {
     "cell_type": "code",
     "collapsed": false,
     "input": [
      "pd.concat([msftA01.head(3), msftA02.head(3)])"
     ],
     "language": "python",
     "metadata": {},
     "outputs": [
      {
       "metadata": {},
       "output_type": "pyout",
       "prompt_number": 8,
       "text": [
        "            Adj Close\n",
        "Date                 \n",
        "2012-01-03     23.608\n",
        "2012-01-04     24.164\n",
        "2012-01-05     24.410\n",
        "2012-02-01     26.359\n",
        "2012-02-02     26.412\n",
        "2012-02-03     26.668"
       ]
      }
     ],
     "prompt_number": 8
    },
    {
     "cell_type": "code",
     "collapsed": false,
     "input": [
      "aaplA01 = aapl['2012-01'][['Adj Close']]\n",
      "withDups = pd.concat([msftA01[:3], aaplA01[:3]])\n",
      "withDups"
     ],
     "language": "python",
     "metadata": {},
     "outputs": [
      {
       "metadata": {},
       "output_type": "pyout",
       "prompt_number": 9,
       "text": [
        "            Adj Close\n",
        "Date                 \n",
        "2012-01-03     23.608\n",
        "2012-01-04     24.164\n",
        "2012-01-05     24.410\n",
        "2012-01-03     54.076\n",
        "2012-01-04     54.366\n",
        "2012-01-05     54.970"
       ]
      }
     ],
     "prompt_number": 9
    },
    {
     "cell_type": "code",
     "collapsed": false,
     "input": [
      "withDups.ix['2012-01-03']"
     ],
     "language": "python",
     "metadata": {},
     "outputs": [
      {
       "metadata": {},
       "output_type": "pyout",
       "prompt_number": 10,
       "text": [
        "            Adj Close\n",
        "Date                 \n",
        "2012-01-03     23.608\n",
        "2012-01-03     54.076"
       ]
      }
     ],
     "prompt_number": 10
    },
    {
     "cell_type": "code",
     "collapsed": false,
     "input": [
      "closes = pd.concat([msftA01[:3], aaplA01[:3]],\n",
      "                   keys=['MSFT', 'AAPL'])\n",
      "closes"
     ],
     "language": "python",
     "metadata": {},
     "outputs": [
      {
       "metadata": {},
       "output_type": "pyout",
       "prompt_number": 11,
       "text": [
        "                 Adj Close\n",
        "     Date                 \n",
        "MSFT 2012-01-03     23.608\n",
        "     2012-01-04     24.164\n",
        "     2012-01-05     24.410\n",
        "AAPL 2012-01-03     54.076\n",
        "     2012-01-04     54.366\n",
        "     2012-01-05     54.970"
       ]
      }
     ],
     "prompt_number": 11
    },
    {
     "cell_type": "code",
     "collapsed": false,
     "input": [
      "closes.ix['MSFT'][:3]"
     ],
     "language": "python",
     "metadata": {},
     "outputs": [
      {
       "metadata": {},
       "output_type": "pyout",
       "prompt_number": 12,
       "text": [
        "            Adj Close\n",
        "Date                 \n",
        "2012-01-03     23.608\n",
        "2012-01-04     24.164\n",
        "2012-01-05     24.410"
       ]
      }
     ],
     "prompt_number": 12
    },
    {
     "cell_type": "code",
     "collapsed": false,
     "input": [
      "msftAV = msft[['Adj Close', 'Volume']]\n",
      "aaplAV = msft[['Adj Close', 'Volume']]\n",
      "pd.concat([msftAV, aaplAV])"
     ],
     "language": "python",
     "metadata": {},
     "outputs": [
      {
       "metadata": {},
       "output_type": "pyout",
       "prompt_number": 13,
       "text": [
        "            Adj Close    Volume\n",
        "Date                           \n",
        "2012-01-03     23.608  64731500\n",
        "2012-01-04     24.164  80516100\n",
        "2012-01-05     24.410  56081400\n",
        "2012-01-06     24.790  99455500\n",
        "...               ...       ...\n",
        "2012-12-24     24.539  20842400\n",
        "2012-12-26     24.357  31631100\n",
        "2012-12-27     24.448  39394000\n",
        "2012-12-28     24.076  28239900\n",
        "\n",
        "[498 rows x 2 columns]"
       ]
      }
     ],
     "prompt_number": 13
    },
    {
     "cell_type": "code",
     "collapsed": false,
     "input": [
      "aaplA = aapl[['Adj Close']]\n",
      "pd.concat([msftAV, aaplA])"
     ],
     "language": "python",
     "metadata": {},
     "outputs": [
      {
       "metadata": {},
       "output_type": "pyout",
       "prompt_number": 14,
       "text": [
        "            Adj Close    Volume\n",
        "Date                           \n",
        "2012-01-03     23.608  64731500\n",
        "2012-01-04     24.164  80516100\n",
        "2012-01-05     24.410  56081400\n",
        "2012-01-06     24.790  99455500\n",
        "...               ...       ...\n",
        "2012-12-24     69.009       NaN\n",
        "2012-12-26     68.057       NaN\n",
        "2012-12-27     68.331       NaN\n",
        "2012-12-28     67.605       NaN\n",
        "\n",
        "[498 rows x 2 columns]"
       ]
      }
     ],
     "prompt_number": 14
    },
    {
     "cell_type": "code",
     "collapsed": false,
     "input": [
      "pd.concat([msftAV, aaplA], join='inner')"
     ],
     "language": "python",
     "metadata": {},
     "outputs": [
      {
       "metadata": {},
       "output_type": "pyout",
       "prompt_number": 15,
       "text": [
        "            Adj Close\n",
        "Date                 \n",
        "2012-01-03     23.608\n",
        "2012-01-04     24.164\n",
        "2012-01-05     24.410\n",
        "2012-01-06     24.790\n",
        "...               ...\n",
        "2012-12-24     69.009\n",
        "2012-12-26     68.057\n",
        "2012-12-27     68.331\n",
        "2012-12-28     67.605\n",
        "\n",
        "[498 rows x 1 columns]"
       ]
      }
     ],
     "prompt_number": 15
    },
    {
     "cell_type": "code",
     "collapsed": false,
     "input": [
      "msftA = msft[['Adj Close']]\n",
      "closes = pd.concat([msftA, aaplA], axis=1)\n",
      "closes[:3]"
     ],
     "language": "python",
     "metadata": {},
     "outputs": [
      {
       "metadata": {},
       "output_type": "pyout",
       "prompt_number": 16,
       "text": [
        "            Adj Close  Adj Close\n",
        "Date                            \n",
        "2012-01-03     23.608     54.076\n",
        "2012-01-04     24.164     54.366\n",
        "2012-01-05     24.410     54.970"
       ]
      }
     ],
     "prompt_number": 16
    },
    {
     "cell_type": "code",
     "collapsed": false,
     "input": [
      "pd.concat([msftAV[:5], aaplAV[:3]],\n",
      "          axis=1,\n",
      "          keys=['MSFT', 'AAPL'])"
     ],
     "language": "python",
     "metadata": {},
     "outputs": [
      {
       "metadata": {},
       "output_type": "pyout",
       "prompt_number": 17,
       "text": [
        "                MSFT                AAPL          \n",
        "           Adj Close    Volume Adj Close    Volume\n",
        "Date                                              \n",
        "2012-01-03    23.608  64731500    23.608  64731500\n",
        "2012-01-04    24.164  80516100    24.164  80516100\n",
        "2012-01-05    24.410  56081400    24.410  56081400\n",
        "2012-01-06    24.790  99455500       NaN       NaN\n",
        "2012-01-09    24.463  59706800       NaN       NaN"
       ]
      }
     ],
     "prompt_number": 17
    },
    {
     "cell_type": "code",
     "collapsed": false,
     "input": [
      "pd.concat([msftA[:5], aaplA[:3]],\n",
      "          axis=1,\n",
      "          join='inner',\n",
      "          keys=['MSFT', 'AAPL'])"
     ],
     "language": "python",
     "metadata": {},
     "outputs": [
      {
       "metadata": {},
       "output_type": "pyout",
       "prompt_number": 18,
       "text": [
        "                MSFT      AAPL\n",
        "           Adj Close Adj Close\n",
        "Date                          \n",
        "2012-01-03    23.608    54.076\n",
        "2012-01-04    24.164    54.366\n",
        "2012-01-05    24.410    54.970"
       ]
      }
     ],
     "prompt_number": 18
    },
    {
     "cell_type": "code",
     "collapsed": false,
     "input": [
      "pd.concat([msftA[:3], aaplA[:3]], ignore_index=True)"
     ],
     "language": "python",
     "metadata": {},
     "outputs": [
      {
       "metadata": {},
       "output_type": "pyout",
       "prompt_number": 19,
       "text": [
        "   Adj Close\n",
        "0     23.608\n",
        "1     24.164\n",
        "2     24.410\n",
        "3     54.076\n",
        "4     54.366\n",
        "5     54.970"
       ]
      }
     ],
     "prompt_number": 19
    },
    {
     "cell_type": "heading",
     "level": 2,
     "metadata": {},
     "source": [
      "Merging DataFrame objects"
     ]
    },
    {
     "cell_type": "code",
     "collapsed": false,
     "input": [
      "msftAR = msftA.reset_index()\n",
      "msftVR = msft[['Volume']].reset_index()\n",
      "msftAR[:3]"
     ],
     "language": "python",
     "metadata": {},
     "outputs": [
      {
       "metadata": {},
       "output_type": "pyout",
       "prompt_number": 20,
       "text": [
        "        Date  Adj Close\n",
        "0 2012-01-03     23.608\n",
        "1 2012-01-04     24.164\n",
        "2 2012-01-05     24.410"
       ]
      }
     ],
     "prompt_number": 20
    },
    {
     "cell_type": "code",
     "collapsed": false,
     "input": [
      "msftVR[:3]"
     ],
     "language": "python",
     "metadata": {},
     "outputs": [
      {
       "metadata": {},
       "output_type": "pyout",
       "prompt_number": 21,
       "text": [
        "        Date    Volume\n",
        "0 2012-01-03  64731500\n",
        "1 2012-01-04  80516100\n",
        "2 2012-01-05  56081400"
       ]
      }
     ],
     "prompt_number": 21
    },
    {
     "cell_type": "code",
     "collapsed": false,
     "input": [
      "msftCVR = pd.merge(msftAR, msftVR)\n",
      "msftCVR[:5]"
     ],
     "language": "python",
     "metadata": {},
     "outputs": [
      {
       "metadata": {},
       "output_type": "pyout",
       "prompt_number": 22,
       "text": [
        "        Date  Adj Close    Volume\n",
        "0 2012-01-03     23.608  64731500\n",
        "1 2012-01-04     24.164  80516100\n",
        "2 2012-01-05     24.410  56081400\n",
        "3 2012-01-06     24.790  99455500\n",
        "4 2012-01-09     24.463  59706800"
       ]
      }
     ],
     "prompt_number": 22
    },
    {
     "cell_type": "code",
     "collapsed": false,
     "input": [
      "msftAR0_5 = msftAR[0:5]\n",
      "msftAR0_5"
     ],
     "language": "python",
     "metadata": {},
     "outputs": [
      {
       "metadata": {},
       "output_type": "pyout",
       "prompt_number": 23,
       "text": [
        "        Date  Adj Close\n",
        "0 2012-01-03     23.608\n",
        "1 2012-01-04     24.164\n",
        "2 2012-01-05     24.410\n",
        "3 2012-01-06     24.790\n",
        "4 2012-01-09     24.463"
       ]
      }
     ],
     "prompt_number": 23
    },
    {
     "cell_type": "code",
     "collapsed": false,
     "input": [
      "msftVR2_4 = msftVR[2:4]\n",
      "msftVR2_4"
     ],
     "language": "python",
     "metadata": {},
     "outputs": [
      {
       "metadata": {},
       "output_type": "pyout",
       "prompt_number": 24,
       "text": [
        "        Date    Volume\n",
        "2 2012-01-05  56081400\n",
        "3 2012-01-06  99455500"
       ]
      }
     ],
     "prompt_number": 24
    },
    {
     "cell_type": "code",
     "collapsed": false,
     "input": [
      "pd.merge(msftAR0_5, msftVR2_4)"
     ],
     "language": "python",
     "metadata": {},
     "outputs": [
      {
       "metadata": {},
       "output_type": "pyout",
       "prompt_number": 25,
       "text": [
        "        Date  Adj Close    Volume\n",
        "0 2012-01-05      24.41  56081400\n",
        "1 2012-01-06      24.79  99455500"
       ]
      }
     ],
     "prompt_number": 25
    },
    {
     "cell_type": "code",
     "collapsed": false,
     "input": [
      "pd.merge(msftAR0_5, msftVR2_4, how='outer')"
     ],
     "language": "python",
     "metadata": {},
     "outputs": [
      {
       "metadata": {},
       "output_type": "pyout",
       "prompt_number": 26,
       "text": [
        "        Date  Adj Close    Volume\n",
        "0 2012-01-03     23.608       NaN\n",
        "1 2012-01-04     24.164       NaN\n",
        "2 2012-01-05     24.410  56081400\n",
        "3 2012-01-06     24.790  99455500\n",
        "4 2012-01-09     24.463       NaN"
       ]
      }
     ],
     "prompt_number": 26
    },
    {
     "cell_type": "heading",
     "level": 2,
     "metadata": {},
     "source": [
      "Pivoting"
     ]
    },
    {
     "cell_type": "code",
     "collapsed": false,
     "input": [
      "msft.insert(0, 'Symbol', 'MSFT')\n",
      "aapl.insert(0, 'Symbol', 'AAPL')\n",
      "combined = pd.concat([msft, aapl]).sort_index()\n",
      "s4p = combined.reset_index();\n",
      "s4p[:5]"
     ],
     "language": "python",
     "metadata": {},
     "outputs": [
      {
       "metadata": {},
       "output_type": "pyout",
       "prompt_number": 27,
       "text": [
        "        Date Symbol    Open    High     Low   Close    Volume  Adj Close\n",
        "0 2012-01-03   MSFT   26.55   26.96   26.39   26.77  64731500     23.608\n",
        "1 2012-01-03   AAPL  409.40  412.50  409.00  411.23  75555200     54.076\n",
        "2 2012-01-04   MSFT   26.82   27.47   26.78   27.40  80516100     24.164\n",
        "3 2012-01-04   AAPL  410.00  414.68  409.28  413.44  65005500     54.366\n",
        "4 2012-01-05   MSFT   27.38   27.73   27.29   27.68  56081400     24.410"
       ]
      }
     ],
     "prompt_number": 27
    },
    {
     "cell_type": "code",
     "collapsed": false,
     "input": [
      "closes = s4p.pivot(index='Date',\n",
      "                   columns='Symbol',\n",
      "                   values='Adj Close')\n",
      "closes[:3]"
     ],
     "language": "python",
     "metadata": {},
     "outputs": [
      {
       "metadata": {},
       "output_type": "pyout",
       "prompt_number": 28,
       "text": [
        "Symbol        AAPL    MSFT\n",
        "Date                      \n",
        "2012-01-03  54.076  23.608\n",
        "2012-01-04  54.366  24.164\n",
        "2012-01-05  54.970  24.410"
       ]
      }
     ],
     "prompt_number": 28
    },
    {
     "cell_type": "heading",
     "level": 2,
     "metadata": {},
     "source": [
      "Stacking and unstacking"
     ]
    },
    {
     "cell_type": "code",
     "collapsed": false,
     "input": [
      "stackedCloses = closes.stack()\n",
      "stackedCloses"
     ],
     "language": "python",
     "metadata": {},
     "outputs": [
      {
       "metadata": {},
       "output_type": "pyout",
       "prompt_number": 29,
       "text": [
        "Date        Symbol\n",
        "2012-01-03  AAPL      54.076\n",
        "            MSFT      23.608\n",
        "2012-01-04  AAPL      54.366\n",
        "            MSFT      24.164\n",
        "                       ...  \n",
        "2012-12-27  AAPL      68.331\n",
        "            MSFT      24.448\n",
        "2012-12-28  AAPL      67.605\n",
        "            MSFT      24.076\n",
        "dtype: float64"
       ]
      }
     ],
     "prompt_number": 29
    },
    {
     "cell_type": "code",
     "collapsed": false,
     "input": [
      "stackedCloses.ix['2012-01-03', 'AAPL']"
     ],
     "language": "python",
     "metadata": {},
     "outputs": [
      {
       "metadata": {},
       "output_type": "pyout",
       "prompt_number": 30,
       "text": [
        "54.075861000000003"
       ]
      }
     ],
     "prompt_number": 30
    },
    {
     "cell_type": "code",
     "collapsed": false,
     "input": [
      "stackedCloses.ix['2012-01-03']"
     ],
     "language": "python",
     "metadata": {},
     "outputs": [
      {
       "metadata": {},
       "output_type": "pyout",
       "prompt_number": 31,
       "text": [
        "Symbol\n",
        "AAPL    54.076\n",
        "MSFT    23.608\n",
        "dtype: float64"
       ]
      }
     ],
     "prompt_number": 31
    },
    {
     "cell_type": "code",
     "collapsed": false,
     "input": [
      "stackedCloses.ix[:, 'MSFT']"
     ],
     "language": "python",
     "metadata": {},
     "outputs": [
      {
       "metadata": {},
       "output_type": "pyout",
       "prompt_number": 32,
       "text": [
        "Date\n",
        "2012-01-03    23.608\n",
        "2012-01-04    24.164\n",
        "2012-01-05    24.410\n",
        "2012-01-06    24.790\n",
        "               ...  \n",
        "2012-12-24    24.539\n",
        "2012-12-26    24.357\n",
        "2012-12-27    24.448\n",
        "2012-12-28    24.076\n",
        "dtype: float64"
       ]
      }
     ],
     "prompt_number": 32
    },
    {
     "cell_type": "code",
     "collapsed": false,
     "input": [
      "unstackedCloses = stackedCloses.unstack()\n",
      "unstackedCloses[:3]"
     ],
     "language": "python",
     "metadata": {},
     "outputs": [
      {
       "metadata": {},
       "output_type": "pyout",
       "prompt_number": 33,
       "text": [
        "Symbol        AAPL    MSFT\n",
        "Date                      \n",
        "2012-01-03  54.076  23.608\n",
        "2012-01-04  54.366  24.164\n",
        "2012-01-05  54.970  24.410"
       ]
      }
     ],
     "prompt_number": 33
    },
    {
     "cell_type": "heading",
     "level": 2,
     "metadata": {},
     "source": [
      "Melting"
     ]
    },
    {
     "cell_type": "code",
     "collapsed": false,
     "input": [
      "melted = pd.melt(s4p, id_vars=['Date', 'Symbol'])\n",
      "melted[:5]"
     ],
     "language": "python",
     "metadata": {},
     "outputs": [
      {
       "metadata": {},
       "output_type": "pyout",
       "prompt_number": 34,
       "text": [
        "        Date Symbol variable   value\n",
        "0 2012-01-03   MSFT     Open   26.55\n",
        "1 2012-01-03   AAPL     Open  409.40\n",
        "2 2012-01-04   MSFT     Open   26.82\n",
        "3 2012-01-04   AAPL     Open  410.00\n",
        "4 2012-01-05   MSFT     Open   27.38"
       ]
      }
     ],
     "prompt_number": 34
    },
    {
     "cell_type": "code",
     "collapsed": false,
     "input": [
      "melted[(melted.Date=='2012-01-03') & (melted.Symbol=='MSFT')]"
     ],
     "language": "python",
     "metadata": {},
     "outputs": [
      {
       "metadata": {},
       "output_type": "pyout",
       "prompt_number": 35,
       "text": [
        "           Date Symbol   variable         value\n",
        "0    2012-01-03   MSFT       Open        26.550\n",
        "498  2012-01-03   MSFT       High        26.960\n",
        "996  2012-01-03   MSFT        Low        26.390\n",
        "1494 2012-01-03   MSFT      Close        26.770\n",
        "1992 2012-01-03   MSFT     Volume  64731500.000\n",
        "2490 2012-01-03   MSFT  Adj Close        23.608"
       ]
      }
     ],
     "prompt_number": 35
    },
    {
     "cell_type": "heading",
     "level": 1,
     "metadata": {},
     "source": [
      "Grouping and aggregating"
     ]
    },
    {
     "cell_type": "heading",
     "level": 2,
     "metadata": {},
     "source": [
      "Splitting"
     ]
    },
    {
     "cell_type": "code",
     "collapsed": false,
     "input": [
      "s4g = combined[['Symbol', 'Adj Close']].reset_index()\n",
      "s4g.insert(1, 'Year', pd.DatetimeIndex(s4g['Date']).year)\n",
      "s4g.insert(2, 'Month', pd.DatetimeIndex(s4g['Date']).month)\n",
      "s4g[:5]"
     ],
     "language": "python",
     "metadata": {},
     "outputs": [
      {
       "metadata": {},
       "output_type": "pyout",
       "prompt_number": 36,
       "text": [
        "        Date  Year  Month Symbol  Adj Close\n",
        "0 2012-01-03  2012      1   MSFT     23.608\n",
        "1 2012-01-03  2012      1   AAPL     54.076\n",
        "2 2012-01-04  2012      1   MSFT     24.164\n",
        "3 2012-01-04  2012      1   AAPL     54.366\n",
        "4 2012-01-05  2012      1   MSFT     24.410"
       ]
      }
     ],
     "prompt_number": 36
    },
    {
     "cell_type": "code",
     "collapsed": false,
     "input": [
      "s4g.groupby('Symbol')"
     ],
     "language": "python",
     "metadata": {},
     "outputs": [
      {
       "metadata": {},
       "output_type": "pyout",
       "prompt_number": 37,
       "text": [
        "<pandas.core.groupby.DataFrameGroupBy object at 0x7f19822332b0>"
       ]
      }
     ],
     "prompt_number": 37
    },
    {
     "cell_type": "code",
     "collapsed": false,
     "input": [
      "grouped = s4g.groupby('Symbol')\n",
      "type(grouped.groups)"
     ],
     "language": "python",
     "metadata": {},
     "outputs": [
      {
       "metadata": {},
       "output_type": "pyout",
       "prompt_number": 38,
       "text": [
        "dict"
       ]
      }
     ],
     "prompt_number": 38
    },
    {
     "cell_type": "code",
     "collapsed": false,
     "input": [
      "len(grouped), grouped.ngroups"
     ],
     "language": "python",
     "metadata": {},
     "outputs": [
      {
       "metadata": {},
       "output_type": "pyout",
       "prompt_number": 39,
       "text": [
        "(2, 2)"
       ]
      }
     ],
     "prompt_number": 39
    },
    {
     "cell_type": "code",
     "collapsed": false,
     "input": [
      "def print_groups (groupobject):\n",
      "    for name, group in groupobject:\n",
      "        print(name)\n",
      "        print(group.head())\n",
      "\n",
      "print_groups(grouped)"
     ],
     "language": "python",
     "metadata": {},
     "outputs": [
      {
       "output_type": "stream",
       "stream": "stdout",
       "text": [
        "AAPL\n",
        "        Date  Year  Month Symbol  Adj Close\n",
        "1 2012-01-03  2012      1   AAPL     54.076\n",
        "3 2012-01-04  2012      1   AAPL     54.366\n",
        "5 2012-01-05  2012      1   AAPL     54.970\n",
        "7 2012-01-06  2012      1   AAPL     55.545\n",
        "9 2012-01-09  2012      1   AAPL     55.457\n",
        "MSFT\n",
        "        Date  Year  Month Symbol  Adj Close\n",
        "0 2012-01-03  2012      1   MSFT     23.608\n",
        "2 2012-01-04  2012      1   MSFT     24.164\n",
        "4 2012-01-05  2012      1   MSFT     24.410\n",
        "6 2012-01-06  2012      1   MSFT     24.790\n",
        "8 2012-01-09  2012      1   MSFT     24.463\n"
       ]
      }
     ],
     "prompt_number": 40
    },
    {
     "cell_type": "code",
     "collapsed": false,
     "input": [
      "grouped.size()"
     ],
     "language": "python",
     "metadata": {},
     "outputs": [
      {
       "metadata": {},
       "output_type": "pyout",
       "prompt_number": 41,
       "text": [
        "Symbol\n",
        "AAPL    249\n",
        "MSFT    249\n",
        "dtype: int64"
       ]
      }
     ],
     "prompt_number": 41
    },
    {
     "cell_type": "code",
     "collapsed": false,
     "input": [
      "grouped.get_group('MSFT')"
     ],
     "language": "python",
     "metadata": {},
     "outputs": [
      {
       "metadata": {},
       "output_type": "pyout",
       "prompt_number": 42,
       "text": [
        "          Date  Year  Month Symbol  Adj Close\n",
        "0   2012-01-03  2012      1   MSFT     23.608\n",
        "2   2012-01-04  2012      1   MSFT     24.164\n",
        "4   2012-01-05  2012      1   MSFT     24.410\n",
        "6   2012-01-06  2012      1   MSFT     24.790\n",
        "..         ...   ...    ...    ...        ...\n",
        "491 2012-12-24  2012     12   MSFT     24.539\n",
        "493 2012-12-26  2012     12   MSFT     24.357\n",
        "495 2012-12-27  2012     12   MSFT     24.448\n",
        "496 2012-12-28  2012     12   MSFT     24.076\n",
        "\n",
        "[249 rows x 5 columns]"
       ]
      }
     ],
     "prompt_number": 42
    },
    {
     "cell_type": "code",
     "collapsed": false,
     "input": [
      "mcg = s4g.groupby(['Symbol', 'Year', 'Month'])\n",
      "print_groups(mcg)"
     ],
     "language": "python",
     "metadata": {},
     "outputs": [
      {
       "output_type": "stream",
       "stream": "stdout",
       "text": [
        "('AAPL', 2012, 1)\n",
        "        Date  Year  Month Symbol  Adj Close\n",
        "1 2012-01-03  2012      1   AAPL     54.076\n",
        "3 2012-01-04  2012      1   AAPL     54.366\n",
        "5 2012-01-05  2012      1   AAPL     54.970\n",
        "7 2012-01-06  2012      1   AAPL     55.545\n",
        "9 2012-01-09  2012      1   AAPL     55.457\n",
        "('AAPL', 2012, 2)\n",
        "         Date  Year  Month Symbol  Adj Close\n",
        "41 2012-02-01  2012      2   AAPL     59.988\n",
        "43 2012-02-02  2012      2   AAPL     59.847\n",
        "45 2012-02-03  2012      2   AAPL     60.447\n",
        "46 2012-02-06  2012      2   AAPL     61.011\n",
        "48 2012-02-07  2012      2   AAPL     61.650\n",
        "('AAPL', 2012, 3)\n",
        "         Date  Year  Month Symbol  Adj Close\n",
        "81 2012-03-01  2012      3   AAPL     71.597\n",
        "82 2012-03-02  2012      3   AAPL     71.690\n",
        "84 2012-03-05  2012      3   AAPL     70.109\n",
        "86 2012-03-06  2012      3   AAPL     69.728\n",
        "89 2012-03-07  2012      3   AAPL     69.785\n",
        "('AAPL', 2012, 4)\n",
        "          Date  Year  Month Symbol  Adj Close\n",
        "125 2012-04-02  2012      4   AAPL     81.349\n",
        "126 2012-04-03  2012      4   AAPL     82.754\n",
        "128 2012-04-04  2012      4   AAPL     82.095\n",
        "130 2012-04-05  2012      4   AAPL     83.328\n",
        "132 2012-04-09  2012      4   AAPL     83.663\n",
        "('AAPL', 2012, 5)\n",
        "          Date  Year  Month Symbol  Adj Close\n",
        "165 2012-05-01  2012      5   AAPL     76.549\n",
        "166 2012-05-02  2012      5   AAPL     77.055\n",
        "169 2012-05-03  2012      5   AAPL     76.508\n",
        "171 2012-05-04  2012      5   AAPL     74.329\n",
        "173 2012-05-07  2012      5   AAPL     74.885\n",
        "('AAPL', 2012, 6)\n",
        "          Date  Year  Month Symbol  Adj Close\n",
        "209 2012-06-01  2012      6   AAPL     73.769\n",
        "211 2012-06-04  2012      6   AAPL     74.203\n",
        "212 2012-06-05  2012      6   AAPL     74.011\n",
        "214 2012-06-06  2012      6   AAPL     75.146\n",
        "216 2012-06-07  2012      6   AAPL     75.180\n",
        "('AAPL', 2012, 7)\n",
        "          Date  Year  Month Symbol  Adj Close\n",
        "250 2012-07-02  2012      7   AAPL     77.915\n",
        "252 2012-07-03  2012      7   AAPL     78.821\n",
        "254 2012-07-05  2012      7   AAPL     80.206\n",
        "257 2012-07-06  2012      7   AAPL     79.672\n",
        "259 2012-07-09  2012      7   AAPL     80.725\n",
        "('AAPL', 2012, 8)\n",
        "          Date  Year  Month Symbol  Adj Close\n",
        "293 2012-08-01  2012      8   AAPL     79.794\n",
        "295 2012-08-02  2012      8   AAPL     79.923\n",
        "296 2012-08-03  2012      8   AAPL     80.963\n",
        "298 2012-08-06  2012      8   AAPL     81.864\n",
        "301 2012-08-07  2012      8   AAPL     81.648\n",
        "('AAPL', 2012, 9)\n",
        "          Date  Year  Month Symbol  Adj Close\n",
        "338 2012-09-04  2012      9   AAPL     89.138\n",
        "340 2012-09-05  2012      9   AAPL     88.512\n",
        "343 2012-09-06  2012      9   AAPL     89.310\n",
        "344 2012-09-07  2012      9   AAPL     89.861\n",
        "347 2012-09-10  2012      9   AAPL     87.523\n",
        "('AAPL', 2012, 10)\n",
        "          Date  Year  Month Symbol  Adj Close\n",
        "377 2012-10-01  2012     10   AAPL     87.081\n",
        "379 2012-10-02  2012     10   AAPL     87.334\n",
        "380 2012-10-03  2012     10   AAPL     88.673\n",
        "382 2012-10-04  2012     10   AAPL     88.059\n",
        "385 2012-10-05  2012     10   AAPL     86.183\n",
        "('AAPL', 2012, 11)\n",
        "          Date  Year  Month Symbol  Adj Close\n",
        "419 2012-11-01  2012     11   AAPL     78.781\n",
        "420 2012-11-02  2012     11   AAPL     76.174\n",
        "423 2012-11-05  2012     11   AAPL     77.206\n",
        "425 2012-11-06  2012     11   AAPL     76.973\n",
        "427 2012-11-07  2012     11   AAPL     74.027"
       ]
      },
      {
       "output_type": "stream",
       "stream": "stdout",
       "text": [
        "\n",
        "('AAPL', 2012, 12)\n",
        "          Date  Year  Month Symbol  Adj Close\n",
        "460 2012-12-03  2012     12   AAPL     77.767\n",
        "463 2012-12-04  2012     12   AAPL     76.395\n",
        "464 2012-12-05  2012     12   AAPL     71.479\n",
        "466 2012-12-06  2012     12   AAPL     72.600\n",
        "468 2012-12-07  2012     12   AAPL     70.744\n",
        "('MSFT', 2012, 1)\n",
        "        Date  Year  Month Symbol  Adj Close\n",
        "0 2012-01-03  2012      1   MSFT     23.608\n",
        "2 2012-01-04  2012      1   MSFT     24.164\n",
        "4 2012-01-05  2012      1   MSFT     24.410\n",
        "6 2012-01-06  2012      1   MSFT     24.790\n",
        "8 2012-01-09  2012      1   MSFT     24.463\n",
        "('MSFT', 2012, 2)\n",
        "         Date  Year  Month Symbol  Adj Close\n",
        "40 2012-02-01  2012      2   MSFT     26.359\n",
        "42 2012-02-02  2012      2   MSFT     26.412\n",
        "44 2012-02-03  2012      2   MSFT     26.668\n",
        "47 2012-02-06  2012      2   MSFT     26.633\n",
        "49 2012-02-07  2012      2   MSFT     26.765\n",
        "('MSFT', 2012, 3)\n",
        "         Date  Year  Month Symbol  Adj Close\n",
        "80 2012-03-01  2012      3   MSFT     28.663\n",
        "83 2012-03-02  2012      3   MSFT     28.477\n",
        "85 2012-03-05  2012      3   MSFT     28.228\n",
        "87 2012-03-06  2012      3   MSFT     28.015\n",
        "88 2012-03-07  2012      3   MSFT     28.264\n",
        "('MSFT', 2012, 4)\n",
        "          Date  Year  Month Symbol  Adj Close\n",
        "124 2012-04-02  2012      4   MSFT     28.663\n",
        "127 2012-04-03  2012      4   MSFT     28.353\n",
        "129 2012-04-04  2012      4   MSFT     27.705\n",
        "131 2012-04-05  2012      4   MSFT     27.980\n",
        "133 2012-04-09  2012      4   MSFT     27.607\n",
        "('MSFT', 2012, 5)\n",
        "          Date  Year  Month Symbol  Adj Close\n",
        "164 2012-05-01  2012      5   MSFT     28.415\n",
        "167 2012-05-02  2012      5   MSFT     28.228\n",
        "168 2012-05-03  2012      5   MSFT     28.193\n",
        "170 2012-05-04  2012      5   MSFT     27.501\n",
        "172 2012-05-07  2012      5   MSFT     27.208\n",
        "('MSFT', 2012, 6)\n",
        "          Date  Year  Month Symbol  Adj Close\n",
        "208 2012-06-01  2012      6   MSFT     25.420\n",
        "210 2012-06-04  2012      6   MSFT     25.510\n",
        "213 2012-06-05  2012      6   MSFT     25.474\n",
        "215 2012-06-06  2012      6   MSFT     26.225\n",
        "217 2012-06-07  2012      6   MSFT     26.117\n",
        "('MSFT', 2012, 7)\n",
        "          Date  Year  Month Symbol  Adj Close\n",
        "251 2012-07-02  2012      7   MSFT     27.306\n",
        "253 2012-07-03  2012      7   MSFT     27.484\n",
        "255 2012-07-05  2012      7   MSFT     27.431\n",
        "256 2012-07-06  2012      7   MSFT     26.975\n",
        "258 2012-07-09  2012      7   MSFT     26.805\n",
        "('MSFT', 2012, 8)\n",
        "          Date  Year  Month Symbol  Adj Close\n",
        "292 2012-08-01  2012      8   MSFT     26.278\n",
        "294 2012-08-02  2012      8   MSFT     26.082\n",
        "297 2012-08-03  2012      8   MSFT     26.582\n",
        "299 2012-08-06  2012      8   MSFT     26.761\n",
        "300 2012-08-07  2012      8   MSFT     27.038\n",
        "('MSFT', 2012, 9)\n",
        "          Date  Year  Month Symbol  Adj Close\n",
        "339 2012-09-04  2012      9   MSFT     27.334\n",
        "341 2012-09-05  2012      9   MSFT     27.334\n",
        "342 2012-09-06  2012      9   MSFT     28.197\n",
        "345 2012-09-07  2012      9   MSFT     27.837\n",
        "346 2012-09-10  2012      9   MSFT     27.631\n",
        "('MSFT', 2012, 10)\n",
        "          Date  Year  Month Symbol  Adj Close\n",
        "376 2012-10-01  2012     10   MSFT     26.524\n",
        "378 2012-10-02  2012     10   MSFT     26.677\n",
        "381 2012-10-03  2012     10   MSFT     26.857\n",
        "383 2012-10-04  2012     10   MSFT     27.010\n",
        "384 2012-10-05  2012     10   MSFT     26.848\n",
        "('MSFT', 2012, 11)\n",
        "          Date  Year  Month Symbol  Adj Close\n",
        "418 2012-11-01  2012     11   MSFT     26.551\n",
        "421 2012-11-02  2012     11   MSFT     26.533\n",
        "422 2012-11-05  2012     11   MSFT     26.650\n",
        "424 2012-11-06  2012     11   MSFT     26.857\n",
        "426 2012-11-07  2012     11   MSFT     26.155\n",
        "('MSFT', 2012, 12)\n",
        "          Date  Year  Month Symbol  Adj Close\n",
        "461 2012-12-03  2012     12   MSFT     23.967\n",
        "462 2012-12-04  2012     12   MSFT     23.913\n",
        "465 2012-12-05  2012     12   MSFT     24.185\n",
        "467 2012-12-06  2012     12   MSFT     24.239\n",
        "469 2012-12-07  2012     12   MSFT     23.995\n"
       ]
      }
     ],
     "prompt_number": 43
    },
    {
     "cell_type": "code",
     "collapsed": false,
     "input": [
      "mi = s4g.set_index(['Symbol', 'Year', 'Month'])\n",
      "mi"
     ],
     "language": "python",
     "metadata": {},
     "outputs": [
      {
       "metadata": {},
       "output_type": "pyout",
       "prompt_number": 44,
       "text": [
        "                        Date  Adj Close\n",
        "Symbol Year Month                      \n",
        "MSFT   2012 1     2012-01-03     23.608\n",
        "AAPL   2012 1     2012-01-03     54.076\n",
        "MSFT   2012 1     2012-01-04     24.164\n",
        "AAPL   2012 1     2012-01-04     54.366\n",
        "...                      ...        ...\n",
        "            12    2012-12-27     68.331\n",
        "MSFT   2012 12    2012-12-27     24.448\n",
        "            12    2012-12-28     24.076\n",
        "AAPL   2012 12    2012-12-28     67.605\n",
        "\n",
        "[498 rows x 2 columns]"
       ]
      }
     ],
     "prompt_number": 44
    },
    {
     "cell_type": "code",
     "collapsed": false,
     "input": [
      "mig_l1 = mi.groupby(level=0)\n",
      "print_groups(mig_l1)"
     ],
     "language": "python",
     "metadata": {},
     "outputs": [
      {
       "output_type": "stream",
       "stream": "stdout",
       "text": [
        "AAPL\n",
        "                        Date  Adj Close\n",
        "Symbol Year Month                      \n",
        "AAPL   2012 1     2012-01-03     54.076\n",
        "            1     2012-01-04     54.366\n",
        "            1     2012-01-05     54.970\n",
        "            1     2012-01-06     55.545\n",
        "            1     2012-01-09     55.457\n",
        "MSFT\n",
        "                        Date  Adj Close\n",
        "Symbol Year Month                      \n",
        "MSFT   2012 1     2012-01-03     23.608\n",
        "            1     2012-01-04     24.164\n",
        "            1     2012-01-05     24.410\n",
        "            1     2012-01-06     24.790\n",
        "            1     2012-01-09     24.463\n"
       ]
      }
     ],
     "prompt_number": 45
    },
    {
     "cell_type": "code",
     "collapsed": false,
     "input": [
      "mig_l12 = mi.groupby(level=['Symbol', 'Year', 'Month'])\n",
      "print_groups(mig_l12)"
     ],
     "language": "python",
     "metadata": {},
     "outputs": [
      {
       "output_type": "stream",
       "stream": "stdout",
       "text": [
        "('AAPL', 2012, 1)\n",
        "                        Date  Adj Close\n",
        "Symbol Year Month                      \n",
        "AAPL   2012 1     2012-01-03     54.076\n",
        "            1     2012-01-04     54.366\n",
        "            1     2012-01-05     54.970\n",
        "            1     2012-01-06     55.545\n",
        "            1     2012-01-09     55.457\n",
        "('AAPL', 2012, 2)\n",
        "                        Date  Adj Close\n",
        "Symbol Year Month                      \n",
        "AAPL   2012 2     2012-02-01     59.988\n",
        "            2     2012-02-02     59.847\n",
        "            2     2012-02-03     60.447\n",
        "            2     2012-02-06     61.011\n",
        "            2     2012-02-07     61.650\n",
        "('AAPL', 2012, 3)\n",
        "                        Date  Adj Close\n",
        "Symbol Year Month                      \n",
        "AAPL   2012 3     2012-03-01     71.597\n",
        "            3     2012-03-02     71.690\n",
        "            3     2012-03-05     70.109\n",
        "            3     2012-03-06     69.728\n",
        "            3     2012-03-07     69.785\n",
        "('AAPL', 2012, 4)\n",
        "                        Date  Adj Close\n",
        "Symbol Year Month                      \n",
        "AAPL   2012 4     2012-04-02     81.349\n",
        "            4     2012-04-03     82.754\n",
        "            4     2012-04-04     82.095\n",
        "            4     2012-04-05     83.328\n",
        "            4     2012-04-09     83.663\n",
        "('AAPL', 2012, 5)\n",
        "                        Date  Adj Close\n",
        "Symbol Year Month                      \n",
        "AAPL   2012 5     2012-05-01     76.549\n",
        "            5     2012-05-02     77.055\n",
        "            5     2012-05-03     76.508\n",
        "            5     2012-05-04     74.329\n",
        "            5     2012-05-07     74.885\n",
        "('AAPL', 2012, 6)\n",
        "                        Date  Adj Close\n",
        "Symbol Year Month                      \n",
        "AAPL   2012 6     2012-06-01     73.769\n",
        "            6     2012-06-04     74.203\n",
        "            6     2012-06-05     74.011\n",
        "            6     2012-06-06     75.146\n",
        "            6     2012-06-07     75.180\n",
        "('AAPL', 2012, 7)\n",
        "                        Date  Adj Close\n",
        "Symbol Year Month                      \n",
        "AAPL   2012 7     2012-07-02     77.915\n",
        "            7     2012-07-03     78.821\n",
        "            7     2012-07-05     80.206\n",
        "            7     2012-07-06     79.672\n",
        "            7     2012-07-09     80.725\n",
        "('AAPL', 2012, 8)\n",
        "                        Date  Adj Close\n",
        "Symbol Year Month                      \n",
        "AAPL   2012 8     2012-08-01     79.794\n",
        "            8     2012-08-02     79.923\n",
        "            8     2012-08-03     80.963\n",
        "            8     2012-08-06     81.864\n",
        "            8     2012-08-07     81.648\n",
        "('AAPL', 2012, 9)\n",
        "                        Date  Adj Close\n",
        "Symbol Year Month                      \n",
        "AAPL   2012 9     2012-09-04     89.138\n",
        "            9     2012-09-05     88.512\n",
        "            9     2012-09-06     89.310\n",
        "            9     2012-09-07     89.861\n",
        "            9     2012-09-10     87.523\n",
        "('AAPL', 2012, 10)\n",
        "                        Date  Adj Close\n",
        "Symbol Year Month                      \n",
        "AAPL   2012 10    2012-10-01     87.081\n",
        "            10    2012-10-02     87.334\n",
        "            10    2012-10-03     88.673\n",
        "            10    2012-10-04     88.059\n",
        "            10    2012-10-05     86.183\n",
        "('AAPL', 2012, 11)\n",
        "                        Date  Adj Close\n",
        "Symbol Year Month                      \n",
        "AAPL   2012 11    2012-11-01     78.781\n",
        "            11    2012-11-02     76.174\n",
        "            11    2012-11-05     77.206\n",
        "            11    2012-11-06     76.973\n",
        "            11    2012-11-07     74.027"
       ]
      },
      {
       "output_type": "stream",
       "stream": "stdout",
       "text": [
        "\n",
        "('AAPL', 2012, 12)\n",
        "                        Date  Adj Close\n",
        "Symbol Year Month                      \n",
        "AAPL   2012 12    2012-12-03     77.767\n",
        "            12    2012-12-04     76.395\n",
        "            12    2012-12-05     71.479\n",
        "            12    2012-12-06     72.600\n",
        "            12    2012-12-07     70.744\n",
        "('MSFT', 2012, 1)\n",
        "                        Date  Adj Close\n",
        "Symbol Year Month                      \n",
        "MSFT   2012 1     2012-01-03     23.608\n",
        "            1     2012-01-04     24.164\n",
        "            1     2012-01-05     24.410\n",
        "            1     2012-01-06     24.790\n",
        "            1     2012-01-09     24.463\n",
        "('MSFT', 2012, 2)\n",
        "                        Date  Adj Close\n",
        "Symbol Year Month                      \n",
        "MSFT   2012 2     2012-02-01     26.359\n",
        "            2     2012-02-02     26.412\n",
        "            2     2012-02-03     26.668\n",
        "            2     2012-02-06     26.633\n",
        "            2     2012-02-07     26.765\n",
        "('MSFT', 2012, 3)\n",
        "                        Date  Adj Close\n",
        "Symbol Year Month                      \n",
        "MSFT   2012 3     2012-03-01     28.663\n",
        "            3     2012-03-02     28.477\n",
        "            3     2012-03-05     28.228\n",
        "            3     2012-03-06     28.015\n",
        "            3     2012-03-07     28.264\n",
        "('MSFT', 2012, 4)\n",
        "                        Date  Adj Close\n",
        "Symbol Year Month                      \n",
        "MSFT   2012 4     2012-04-02     28.663\n",
        "            4     2012-04-03     28.353\n",
        "            4     2012-04-04     27.705\n",
        "            4     2012-04-05     27.980\n",
        "            4     2012-04-09     27.607\n",
        "('MSFT', 2012, 5)\n",
        "                        Date  Adj Close\n",
        "Symbol Year Month                      \n",
        "MSFT   2012 5     2012-05-01     28.415\n",
        "            5     2012-05-02     28.228\n",
        "            5     2012-05-03     28.193\n",
        "            5     2012-05-04     27.501\n",
        "            5     2012-05-07     27.208\n",
        "('MSFT', 2012, 6)\n",
        "                        Date  Adj Close\n",
        "Symbol Year Month                      \n",
        "MSFT   2012 6     2012-06-01     25.420\n",
        "            6     2012-06-04     25.510\n",
        "            6     2012-06-05     25.474\n",
        "            6     2012-06-06     26.225\n",
        "            6     2012-06-07     26.117\n",
        "('MSFT', 2012, 7)\n",
        "                        Date  Adj Close\n",
        "Symbol Year Month                      \n",
        "MSFT   2012 7     2012-07-02     27.306\n",
        "            7     2012-07-03     27.484\n",
        "            7     2012-07-05     27.431\n",
        "            7     2012-07-06     26.975\n",
        "            7     2012-07-09     26.805\n",
        "('MSFT', 2012, 8)\n",
        "                        Date  Adj Close\n",
        "Symbol Year Month                      \n",
        "MSFT   2012 8     2012-08-01     26.278\n",
        "            8     2012-08-02     26.082\n",
        "            8     2012-08-03     26.582\n",
        "            8     2012-08-06     26.761\n",
        "            8     2012-08-07     27.038\n",
        "('MSFT', 2012, 9)\n",
        "                        Date  Adj Close\n",
        "Symbol Year Month                      \n",
        "MSFT   2012 9     2012-09-04     27.334\n",
        "            9     2012-09-05     27.334\n",
        "            9     2012-09-06     28.197\n",
        "            9     2012-09-07     27.837\n",
        "            9     2012-09-10     27.631\n",
        "('MSFT', 2012, 10)\n",
        "                        Date  Adj Close\n",
        "Symbol Year Month                      \n",
        "MSFT   2012 10    2012-10-01     26.524\n",
        "            10    2012-10-02     26.677\n",
        "            10    2012-10-03     26.857\n",
        "            10    2012-10-04     27.010\n",
        "            10    2012-10-05     26.848"
       ]
      },
      {
       "output_type": "stream",
       "stream": "stdout",
       "text": [
        "\n",
        "('MSFT', 2012, 11)\n",
        "                        Date  Adj Close\n",
        "Symbol Year Month                      \n",
        "MSFT   2012 11    2012-11-01     26.551\n",
        "            11    2012-11-02     26.533\n",
        "            11    2012-11-05     26.650\n",
        "            11    2012-11-06     26.857\n",
        "            11    2012-11-07     26.155\n",
        "('MSFT', 2012, 12)\n",
        "                        Date  Adj Close\n",
        "Symbol Year Month                      \n",
        "MSFT   2012 12    2012-12-03     23.967\n",
        "            12    2012-12-04     23.913\n",
        "            12    2012-12-05     24.185\n",
        "            12    2012-12-06     24.239\n",
        "            12    2012-12-07     23.995\n"
       ]
      }
     ],
     "prompt_number": 46
    },
    {
     "cell_type": "heading",
     "level": 2,
     "metadata": {},
     "source": [
      "Aggregating"
     ]
    },
    {
     "cell_type": "code",
     "collapsed": false,
     "input": [
      "mig_l12.agg(np.mean)"
     ],
     "language": "python",
     "metadata": {},
     "outputs": [
      {
       "metadata": {},
       "output_type": "pyout",
       "prompt_number": 47,
       "text": [
        "                   Adj Close\n",
        "Symbol Year Month           \n",
        "AAPL   2012 1         56.357\n",
        "            2         65.430\n",
        "            3         75.941\n",
        "            4         79.688\n",
        "...                      ...\n",
        "MSFT   2012 9         27.686\n",
        "            10        26.143\n",
        "            11        25.138\n",
        "            12        24.466\n",
        "\n",
        "[24 rows x 1 columns]"
       ]
      }
     ],
     "prompt_number": 47
    },
    {
     "cell_type": "code",
     "collapsed": false,
     "input": [
      "s4g.groupby(['Symbol', 'Year', 'Month'],\n",
      "            as_index=False).agg(np.mean)[:5]"
     ],
     "language": "python",
     "metadata": {},
     "outputs": [
      {
       "metadata": {},
       "output_type": "pyout",
       "prompt_number": 48,
       "text": [
        "  Symbol  Year  Month  Adj Close\n",
        "0   AAPL  2012      1     56.357\n",
        "1   AAPL  2012      2     65.430\n",
        "2   AAPL  2012      3     75.941\n",
        "3   AAPL  2012      4     79.688\n",
        "4   AAPL  2012      5     74.253"
       ]
      }
     ],
     "prompt_number": 48
    },
    {
     "cell_type": "code",
     "collapsed": false,
     "input": [
      "mig_l12.agg([np.mean, np.std])"
     ],
     "language": "python",
     "metadata": {},
     "outputs": [
      {
       "metadata": {},
       "output_type": "pyout",
       "prompt_number": 49,
       "text": [
        "                  Adj Close       \n",
        "                       mean    std\n",
        "Symbol Year Month                 \n",
        "AAPL   2012 1        56.357  1.754\n",
        "            2        65.430  3.484\n",
        "            3        75.941  4.062\n",
        "            4        79.688  2.989\n",
        "...                     ...    ...\n",
        "MSFT   2012 9        27.686  0.416\n",
        "            10       26.143  0.644\n",
        "            11       25.138  0.968\n",
        "            12       24.466  0.352\n",
        "\n",
        "[24 rows x 2 columns]"
       ]
      }
     ],
     "prompt_number": 49
    },
    {
     "cell_type": "code",
     "collapsed": false,
     "input": [],
     "language": "python",
     "metadata": {},
     "outputs": [],
     "prompt_number": 49
    }
   ],
   "metadata": {}
  }
 ]
}