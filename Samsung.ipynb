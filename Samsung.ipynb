{
 "metadata": {
  "name": "",
  "signature": "sha256:6866b1bee20fd61b082d81d9f7e388fed18baf0a53f3130279546b00a820e9f4"
 },
 "nbformat": 3,
 "nbformat_minor": 0,
 "worksheets": [
  {
   "cells": [
    {
     "cell_type": "code",
     "collapsed": false,
     "input": [
      "import numpy as np\n",
      "import pandas as pd"
     ],
     "language": "python",
     "metadata": {},
     "outputs": [],
     "prompt_number": 45
    },
    {
     "cell_type": "code",
     "collapsed": false,
     "input": [
      "df = pd.read_csv('ss.csv')"
     ],
     "language": "python",
     "metadata": {},
     "outputs": [],
     "prompt_number": 46
    },
    {
     "cell_type": "code",
     "collapsed": false,
     "input": [
      "df.columns = ['date', 'shop', 'admin', 'goods', 'count', 'price', 'sum', 'seller', 'card', 'personal_card', 'owner', 'empty']\n",
      "df['date'] = df['date'].apply(lambda x: pd.to_datetime(x))"
     ],
     "language": "python",
     "metadata": {},
     "outputs": [],
     "prompt_number": 47
    },
    {
     "cell_type": "code",
     "collapsed": false,
     "input": [
      "df['date_day'] = df['date'].apply(lambda x: x.normalize())"
     ],
     "language": "python",
     "metadata": {},
     "outputs": [],
     "prompt_number": 60
    },
    {
     "cell_type": "code",
     "collapsed": false,
     "input": [
      "df.groupby('date_day').std()['count']\n",
      "        "
     ],
     "language": "python",
     "metadata": {},
     "outputs": [
      {
       "metadata": {},
       "output_type": "pyout",
       "prompt_number": 81,
       "text": [
        "date_day\n",
        "2012-09-07    0.327700\n",
        "2012-09-08    0.581551\n",
        "2012-09-09    0.386780\n",
        "2012-09-10    0.000000\n",
        "2012-09-11    0.371669\n",
        "2012-09-12    0.223456\n",
        "2012-09-13    0.159085\n",
        "2012-09-14    1.755775\n",
        "2012-09-15    0.370994\n",
        "2012-09-16    0.316228\n",
        "2012-09-17    0.501056\n",
        "2012-09-18    0.711512\n",
        "2012-09-19    0.439941\n",
        "2012-09-20    1.402727\n",
        "2012-09-21    0.201229\n",
        "2012-09-22    0.225618\n",
        "2012-09-23    0.156150\n",
        "2012-09-24    0.391042\n",
        "2012-09-25    0.000000\n",
        "2012-09-26    0.357161\n",
        "2012-09-27    0.218085\n",
        "2012-09-28    0.279639\n",
        "2012-09-29    0.299614\n",
        "2012-09-30    0.000000\n",
        "2012-10-01    0.284384\n",
        "2012-10-02    0.000000\n",
        "2012-10-03    0.336260\n",
        "2012-10-04    1.162929\n",
        "2012-10-05    0.123091\n",
        "2012-10-06    0.205049\n",
        "                ...   \n",
        "2014-11-01    0.226773\n",
        "2014-11-02    0.176716\n",
        "2014-11-03    0.000000\n",
        "2014-11-04    0.129099\n",
        "2014-11-05    0.475229\n",
        "2014-11-06    0.174036\n",
        "2014-11-07    0.208684\n",
        "2014-11-08    0.293999\n",
        "2014-11-09    0.107211\n",
        "2014-11-10    0.277740\n",
        "2014-11-11    0.147424\n",
        "2014-11-12    0.000000\n",
        "2014-11-13    0.000000\n",
        "2014-11-14    0.496489\n",
        "2014-11-15    0.096674\n",
        "2014-11-16    0.218002\n",
        "2014-11-17    0.142857\n",
        "2014-11-18    1.020052\n",
        "2014-11-19    0.000000\n",
        "2014-11-20    0.565187\n",
        "2014-11-21    0.155511\n",
        "2014-11-22    0.229114\n",
        "2014-11-23    0.216734\n",
        "2014-11-24    0.819247\n",
        "2014-11-25    0.363803\n",
        "2014-11-26    0.201360\n",
        "2014-11-27    0.186243\n",
        "2014-11-28    0.214445\n",
        "2014-11-29    0.259566\n",
        "2014-11-30    0.000000\n",
        "Name: count, dtype: float64"
       ]
      }
     ],
     "prompt_number": 81
    },
    {
     "cell_type": "code",
     "collapsed": false,
     "input": [
      "df.date_day"
     ],
     "language": "python",
     "metadata": {},
     "outputs": [
      {
       "metadata": {},
       "output_type": "pyout",
       "prompt_number": 61,
       "text": [
        "0        2014-08-29\n",
        "1        2014-08-29\n",
        "2        2014-08-29\n",
        "3        2014-08-29\n",
        "4        2014-08-29\n",
        "5        2014-08-29\n",
        "6        2014-08-29\n",
        "7        2014-08-29\n",
        "8        2014-08-29\n",
        "9        2014-08-29\n",
        "10       2014-08-29\n",
        "11       2014-08-29\n",
        "12       2014-08-29\n",
        "13       2014-08-29\n",
        "14       2014-08-29\n",
        "15       2014-08-29\n",
        "16       2014-08-29\n",
        "17       2014-08-29\n",
        "18       2014-08-29\n",
        "19       2014-08-29\n",
        "20       2014-08-29\n",
        "21       2014-08-29\n",
        "22       2014-08-29\n",
        "23       2014-08-29\n",
        "24       2014-08-29\n",
        "25       2014-08-29\n",
        "26       2014-08-29\n",
        "27       2014-08-29\n",
        "28       2014-08-29\n",
        "29       2014-08-29\n",
        "            ...    \n",
        "100578   2013-10-15\n",
        "100579   2013-10-15\n",
        "100580   2013-10-15\n",
        "100581   2013-10-15\n",
        "100582   2013-10-15\n",
        "100583   2013-10-15\n",
        "100584   2013-10-15\n",
        "100585   2013-10-15\n",
        "100586   2013-10-15\n",
        "100587   2013-10-15\n",
        "100588   2013-10-15\n",
        "100589   2013-10-15\n",
        "100590   2013-10-15\n",
        "100591   2013-10-15\n",
        "100592   2013-10-15\n",
        "100593   2013-10-15\n",
        "100594   2013-10-15\n",
        "100595   2013-10-15\n",
        "100596   2013-10-15\n",
        "100597   2013-10-15\n",
        "100598   2013-10-15\n",
        "100599   2013-10-15\n",
        "100600   2013-10-15\n",
        "100601   2013-10-15\n",
        "100602   2013-10-15\n",
        "100603   2013-10-15\n",
        "100604   2013-10-15\n",
        "100605   2014-09-13\n",
        "100606   2014-09-13\n",
        "100607   2014-09-13\n",
        "Name: date_day, dtype: datetime64[ns]"
       ]
      }
     ],
     "prompt_number": 61
    },
    {
     "cell_type": "code",
     "collapsed": false,
     "input": [
      "kas[kas'date'] = kas['date'].apply(lambda x: pd.to_datetime(x))"
     ],
     "language": "python",
     "metadata": {},
     "outputs": [
      {
       "ename": "SyntaxError",
       "evalue": "invalid syntax (<ipython-input-51-1b5dcd8621b3>, line 1)",
       "output_type": "pyerr",
       "traceback": [
        "\u001b[0;36m  File \u001b[0;32m\"<ipython-input-51-1b5dcd8621b3>\"\u001b[0;36m, line \u001b[0;32m1\u001b[0m\n\u001b[0;31m    kas[kas'date'] = kas['date'].apply(lambda x: pd.to_datetime(x))\u001b[0m\n\u001b[0m                ^\u001b[0m\n\u001b[0;31mSyntaxError\u001b[0m\u001b[0;31m:\u001b[0m invalid syntax\n"
       ]
      }
     ],
     "prompt_number": 51
    },
    {
     "cell_type": "code",
     "collapsed": false,
     "input": [],
     "language": "python",
     "metadata": {},
     "outputs": []
    }
   ],
   "metadata": {}
  }
 ]
}